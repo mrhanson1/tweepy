{
 "cells": [
  {
   "cell_type": "markdown",
   "metadata": {},
   "source": [
    "<img src=\"https://datasciencedegree.wisconsin.edu/wp-content/themes/data-gulp/images/logo.svg\" width=\"300\">\n"
   ]
  },
  {
   "cell_type": "markdown",
   "metadata": {},
   "source": [
    "# Lesson 13 Activity -- Using ```tweepy``` for Data Mining"
   ]
  },
  {
   "cell_type": "markdown",
   "metadata": {},
   "source": [
    "This is an introduction to data collection from <a href=\"http://www.twitter.com/\">Twitter</a> using the [`tweepy`](http://www.tweepy.org/) package."
   ]
  },
  {
   "cell_type": "markdown",
   "metadata": {},
   "source": [
    "---\n",
    "\n",
    "## Getting set up -- things you do about once"
   ]
  },
  {
   "cell_type": "markdown",
   "metadata": {},
   "source": [
    "### Install Tweepy\n",
    "\n",
    "You must install the tweepy package from either Anaconda or the terminal on your computer before using it!"
   ]
  },
  {
   "cell_type": "markdown",
   "metadata": {},
   "source": [
    "### Make a twitter account\n",
    "\n",
    "You'll need to set up an app at <a href=\"https://apps.twitter.com/\">apps.twitter.com</a>."
   ]
  },
  {
   "cell_type": "markdown",
   "metadata": {},
   "source": [
    "### Save your credentials to an external file\n",
    "\n",
    "Make a plain text file on your computer called `twitter_credentials.py`, and put it anywhere but this directory.  I put mine in my home directory for my user.  It will look something like this:\n",
    "\n",
    "    con_key = 'your consumer key goes here'\n",
    "    con_secret = 'your consumer secret goes here'\n",
    "    acc_token = 'your access token goes here'\n",
    "    acc_secret = 'your access secret goes here'\n",
    "    \n",
    "* Save your consumer key, consumer secret, access token, and access secret there.\n",
    "* Don't share these secrets with others!  \n",
    "* It's also possible to generate access tokens and secrets from within an app, but now's not the right time for this."
   ]
  },
  {
   "cell_type": "markdown",
   "metadata": {},
   "source": [
    "---\n",
    "\n",
    "## Preliminaries to using tweepy -- things you do once per session\n",
    "\n",
    "You have to do these things about once per session.  If you close your notebook, or restart the kernel, then you have to do these things before you can again use the Tweepy interface to the Twitter API."
   ]
  },
  {
   "cell_type": "markdown",
   "metadata": {},
   "source": [
    "#### 1. Gain access to the Tweepy library\n",
    "\n",
    "As you would any other Python library, `import`."
   ]
  },
  {
   "cell_type": "code",
   "execution_count": 1,
   "metadata": {},
   "outputs": [],
   "source": [
    "from pathlib import Path\n",
    "home = str(Path.home())"
   ]
  },
  {
   "cell_type": "code",
   "execution_count": 2,
   "metadata": {},
   "outputs": [
    {
     "data": {
      "text/plain": [
       "PosixPath('/Users/markhanson')"
      ]
     },
     "execution_count": 2,
     "metadata": {},
     "output_type": "execute_result"
    }
   ],
   "source": [
    "Path.home()"
   ]
  },
  {
   "cell_type": "code",
   "execution_count": 3,
   "metadata": {},
   "outputs": [],
   "source": [
    "import tweepy"
   ]
  },
  {
   "cell_type": "markdown",
   "metadata": {},
   "source": [
    "#### 2. Load your credentials from the external file\n",
    "\n",
    "Invoke a python plain text source file located somewhere else on your computer."
   ]
  },
  {
   "cell_type": "code",
   "execution_count": 4,
   "metadata": {},
   "outputs": [],
   "source": [
    "%run ~'/twitter_credentials.py'\n",
    "# this cell will evaluate silently 🙊, and not print anything.  \n",
    "# This is desired, because a person with your keys can act as you on Twitter in literally every way 😟"
   ]
  },
  {
   "cell_type": "markdown",
   "metadata": {},
   "source": [
    "🔐 If you need to check whether the four variables, such as `con_key` have the correct value, insert a cell and print the value, then delete the cell.  Keep your credentials secret and safe!!!  "
   ]
  },
  {
   "cell_type": "code",
   "execution_count": 5,
   "metadata": {},
   "outputs": [
    {
     "name": "stdout",
     "output_type": "stream",
     "text": [
      "qkuGAD4j107yj5TZXMz3KeDY4\n",
      "gzdFbDQgmQ0FEmTI72D5F5ZrSyrDo0SiLXYMP3rxAGok389Glv\n",
      "35988661-1XAmvrnssytwcWQFZVPMFsOu0jZotWaG0E9TJvtis\n",
      "nbPC8qUsTKdgKxfhPzJhozpJAoDZqFFC0VkCJystMlWy9\n"
     ]
    }
   ],
   "source": [
    "print(con_key)\n",
    "print(con_secret)\n",
    "print(acc_token)\n",
    "print(acc_secret)"
   ]
  },
  {
   "cell_type": "markdown",
   "metadata": {},
   "source": [
    "#### 3. Make an `API` object\n",
    "\n",
    "The `tweepy.API` object handles construction of the Twitter API calls for you.  It's a convenience layer, but it's really dang convenient!"
   ]
  },
  {
   "cell_type": "code",
   "execution_count": 6,
   "metadata": {},
   "outputs": [],
   "source": [
    "#Use tweepy.OAuthHandler to create an authentication using the given key and secret\n",
    "auth = tweepy.OAuthHandler(consumer_key=con_key, consumer_secret=con_secret)\n",
    "auth.set_access_token(acc_token, acc_secret)\n",
    "\n",
    "#Connect to the Twitter API using the authentication\n",
    "api = tweepy.API(auth)"
   ]
  },
  {
   "cell_type": "markdown",
   "metadata": {},
   "source": [
    "--- \n",
    "\n",
    "## Using the API\n",
    "\n",
    "Twitter has two versions of its API:\n",
    "* The [REST](https://en.wikipedia.org/wiki/Representational_state_transfer) [API](https://en.wikipedia.org/wiki/Application_programming_interface) allows you to _pull_ information from Twitter, or _push_ information back to Twitter.  For example,  \n",
    "  💡 if I wanted to have a Python script that ran as a CRON job to automatically tweet for me under certain conditions, I would use the REST API.\n",
    "* The Streaming API allows us to monitor Twitter in real time, grabbing tweets as they are made.  For example,  \n",
    "  💡 if I wanted to make a little device powered by a Raspberry Pi that showed interesting tweets in real time on a tiny screen by my desk, I would use the streaming API."
   ]
  },
  {
   "cell_type": "markdown",
   "metadata": {},
   "source": [
    "### Method 1. The REST API\n",
    "\n",
    "The REST API allows you to _pull_ information from Twitter, or _push_ information back to Twitter.  We'll use the REST API to run a specific search.  You could also use the REST API to make automatic tweets on Twitter, or get information about specific users."
   ]
  },
  {
   "cell_type": "code",
   "execution_count": 7,
   "metadata": {},
   "outputs": [],
   "source": [
    "#Use the REST API for a static search\n",
    "#Our example finds recent tweets using the hashtag #datascience\n",
    "\n",
    "tweet_list = api.search(q='#givingTuesday')"
   ]
  },
  {
   "cell_type": "markdown",
   "metadata": {},
   "source": [
    "See [twitter's search documentation](https://dev.twitter.com/rest/public/search) for examples of query operators.  Pay attention to how to URL encode your query.  [This w3schools page](https://www.w3schools.com/tags/ref_urlencode.asp) has information on what `%23` and other encodings for URL's mean."
   ]
  },
  {
   "cell_type": "markdown",
   "metadata": {},
   "source": [
    "We retrieve a SearchResult object for each tweet, full of data such as the language, the identity of the poster, etc."
   ]
  },
  {
   "cell_type": "code",
   "execution_count": 11,
   "metadata": {},
   "outputs": [
    {
     "data": {
      "text/plain": [
       "Status(_api=<tweepy.api.API object at 0x7fb8343fbb90>, _json={'created_at': 'Mon Dec 07 03:13:47 +0000 2020', 'id': 1335784542360186890, 'id_str': '1335784542360186890', 'text': 'ICYMI - Chairman @GrassleyPress showing some love to Iowa charities for #GivingTuesday! Also works in a plug for th… https://t.co/XLZdwOeKm4', 'truncated': True, 'entities': {'hashtags': [{'text': 'GivingTuesday', 'indices': [72, 86]}], 'symbols': [], 'user_mentions': [{'screen_name': 'GrassleyPress', 'name': 'Sen. Grassley Press', 'id': 294126378, 'id_str': '294126378', 'indices': [17, 31]}], 'urls': [{'url': 'https://t.co/XLZdwOeKm4', 'expanded_url': 'https://twitter.com/i/web/status/1335784542360186890', 'display_url': 'twitter.com/i/web/status/1…', 'indices': [117, 140]}]}, 'metadata': {'iso_language_code': 'en', 'result_type': 'recent'}, 'source': '<a href=\"https://mobile.twitter.com\" rel=\"nofollow\">Twitter Web App</a>', 'in_reply_to_status_id': None, 'in_reply_to_status_id_str': None, 'in_reply_to_user_id': None, 'in_reply_to_user_id_str': None, 'in_reply_to_screen_name': None, 'user': {'id': 65393621, 'id_str': '65393621', 'name': 'Ben Kershaw', 'screen_name': 'Ben_Kershaw', 'location': '', 'description': 'Politics. Nonprofits. Public Policy. Changemakers. New England sports. Government Relations for @IndSector, but tweets are just from me.', 'url': None, 'entities': {'description': {'urls': []}}, 'protected': False, 'followers_count': 524, 'friends_count': 413, 'listed_count': 22, 'created_at': 'Thu Aug 13 15:51:59 +0000 2009', 'favourites_count': 2628, 'utc_offset': None, 'time_zone': None, 'geo_enabled': True, 'verified': False, 'statuses_count': 1504, 'lang': None, 'contributors_enabled': False, 'is_translator': False, 'is_translation_enabled': False, 'profile_background_color': 'C0DEED', 'profile_background_image_url': 'http://abs.twimg.com/images/themes/theme1/bg.png', 'profile_background_image_url_https': 'https://abs.twimg.com/images/themes/theme1/bg.png', 'profile_background_tile': False, 'profile_image_url': 'http://pbs.twimg.com/profile_images/992507874210349056/DigCYV6t_normal.jpg', 'profile_image_url_https': 'https://pbs.twimg.com/profile_images/992507874210349056/DigCYV6t_normal.jpg', 'profile_banner_url': 'https://pbs.twimg.com/profile_banners/65393621/1399058896', 'profile_link_color': '1DA1F2', 'profile_sidebar_border_color': 'C0DEED', 'profile_sidebar_fill_color': 'DDEEF6', 'profile_text_color': '333333', 'profile_use_background_image': True, 'has_extended_profile': False, 'default_profile': True, 'default_profile_image': False, 'following': False, 'follow_request_sent': False, 'notifications': False, 'translator_type': 'none'}, 'geo': None, 'coordinates': None, 'place': None, 'contributors': None, 'is_quote_status': False, 'retweet_count': 0, 'favorite_count': 0, 'favorited': False, 'retweeted': False, 'possibly_sensitive': False, 'lang': 'en'}, created_at=datetime.datetime(2020, 12, 7, 3, 13, 47), id=1335784542360186890, id_str='1335784542360186890', text='ICYMI - Chairman @GrassleyPress showing some love to Iowa charities for #GivingTuesday! Also works in a plug for th… https://t.co/XLZdwOeKm4', truncated=True, entities={'hashtags': [{'text': 'GivingTuesday', 'indices': [72, 86]}], 'symbols': [], 'user_mentions': [{'screen_name': 'GrassleyPress', 'name': 'Sen. Grassley Press', 'id': 294126378, 'id_str': '294126378', 'indices': [17, 31]}], 'urls': [{'url': 'https://t.co/XLZdwOeKm4', 'expanded_url': 'https://twitter.com/i/web/status/1335784542360186890', 'display_url': 'twitter.com/i/web/status/1…', 'indices': [117, 140]}]}, metadata={'iso_language_code': 'en', 'result_type': 'recent'}, source='Twitter Web App', source_url='https://mobile.twitter.com', in_reply_to_status_id=None, in_reply_to_status_id_str=None, in_reply_to_user_id=None, in_reply_to_user_id_str=None, in_reply_to_screen_name=None, author=User(_api=<tweepy.api.API object at 0x7fb8343fbb90>, _json={'id': 65393621, 'id_str': '65393621', 'name': 'Ben Kershaw', 'screen_name': 'Ben_Kershaw', 'location': '', 'description': 'Politics. Nonprofits. Public Policy. Changemakers. New England sports. Government Relations for @IndSector, but tweets are just from me.', 'url': None, 'entities': {'description': {'urls': []}}, 'protected': False, 'followers_count': 524, 'friends_count': 413, 'listed_count': 22, 'created_at': 'Thu Aug 13 15:51:59 +0000 2009', 'favourites_count': 2628, 'utc_offset': None, 'time_zone': None, 'geo_enabled': True, 'verified': False, 'statuses_count': 1504, 'lang': None, 'contributors_enabled': False, 'is_translator': False, 'is_translation_enabled': False, 'profile_background_color': 'C0DEED', 'profile_background_image_url': 'http://abs.twimg.com/images/themes/theme1/bg.png', 'profile_background_image_url_https': 'https://abs.twimg.com/images/themes/theme1/bg.png', 'profile_background_tile': False, 'profile_image_url': 'http://pbs.twimg.com/profile_images/992507874210349056/DigCYV6t_normal.jpg', 'profile_image_url_https': 'https://pbs.twimg.com/profile_images/992507874210349056/DigCYV6t_normal.jpg', 'profile_banner_url': 'https://pbs.twimg.com/profile_banners/65393621/1399058896', 'profile_link_color': '1DA1F2', 'profile_sidebar_border_color': 'C0DEED', 'profile_sidebar_fill_color': 'DDEEF6', 'profile_text_color': '333333', 'profile_use_background_image': True, 'has_extended_profile': False, 'default_profile': True, 'default_profile_image': False, 'following': False, 'follow_request_sent': False, 'notifications': False, 'translator_type': 'none'}, id=65393621, id_str='65393621', name='Ben Kershaw', screen_name='Ben_Kershaw', location='', description='Politics. Nonprofits. Public Policy. Changemakers. New England sports. Government Relations for @IndSector, but tweets are just from me.', url=None, entities={'description': {'urls': []}}, protected=False, followers_count=524, friends_count=413, listed_count=22, created_at=datetime.datetime(2009, 8, 13, 15, 51, 59), favourites_count=2628, utc_offset=None, time_zone=None, geo_enabled=True, verified=False, statuses_count=1504, lang=None, contributors_enabled=False, is_translator=False, is_translation_enabled=False, profile_background_color='C0DEED', profile_background_image_url='http://abs.twimg.com/images/themes/theme1/bg.png', profile_background_image_url_https='https://abs.twimg.com/images/themes/theme1/bg.png', profile_background_tile=False, profile_image_url='http://pbs.twimg.com/profile_images/992507874210349056/DigCYV6t_normal.jpg', profile_image_url_https='https://pbs.twimg.com/profile_images/992507874210349056/DigCYV6t_normal.jpg', profile_banner_url='https://pbs.twimg.com/profile_banners/65393621/1399058896', profile_link_color='1DA1F2', profile_sidebar_border_color='C0DEED', profile_sidebar_fill_color='DDEEF6', profile_text_color='333333', profile_use_background_image=True, has_extended_profile=False, default_profile=True, default_profile_image=False, following=False, follow_request_sent=False, notifications=False, translator_type='none'), user=User(_api=<tweepy.api.API object at 0x7fb8343fbb90>, _json={'id': 65393621, 'id_str': '65393621', 'name': 'Ben Kershaw', 'screen_name': 'Ben_Kershaw', 'location': '', 'description': 'Politics. Nonprofits. Public Policy. Changemakers. New England sports. Government Relations for @IndSector, but tweets are just from me.', 'url': None, 'entities': {'description': {'urls': []}}, 'protected': False, 'followers_count': 524, 'friends_count': 413, 'listed_count': 22, 'created_at': 'Thu Aug 13 15:51:59 +0000 2009', 'favourites_count': 2628, 'utc_offset': None, 'time_zone': None, 'geo_enabled': True, 'verified': False, 'statuses_count': 1504, 'lang': None, 'contributors_enabled': False, 'is_translator': False, 'is_translation_enabled': False, 'profile_background_color': 'C0DEED', 'profile_background_image_url': 'http://abs.twimg.com/images/themes/theme1/bg.png', 'profile_background_image_url_https': 'https://abs.twimg.com/images/themes/theme1/bg.png', 'profile_background_tile': False, 'profile_image_url': 'http://pbs.twimg.com/profile_images/992507874210349056/DigCYV6t_normal.jpg', 'profile_image_url_https': 'https://pbs.twimg.com/profile_images/992507874210349056/DigCYV6t_normal.jpg', 'profile_banner_url': 'https://pbs.twimg.com/profile_banners/65393621/1399058896', 'profile_link_color': '1DA1F2', 'profile_sidebar_border_color': 'C0DEED', 'profile_sidebar_fill_color': 'DDEEF6', 'profile_text_color': '333333', 'profile_use_background_image': True, 'has_extended_profile': False, 'default_profile': True, 'default_profile_image': False, 'following': False, 'follow_request_sent': False, 'notifications': False, 'translator_type': 'none'}, id=65393621, id_str='65393621', name='Ben Kershaw', screen_name='Ben_Kershaw', location='', description='Politics. Nonprofits. Public Policy. Changemakers. New England sports. Government Relations for @IndSector, but tweets are just from me.', url=None, entities={'description': {'urls': []}}, protected=False, followers_count=524, friends_count=413, listed_count=22, created_at=datetime.datetime(2009, 8, 13, 15, 51, 59), favourites_count=2628, utc_offset=None, time_zone=None, geo_enabled=True, verified=False, statuses_count=1504, lang=None, contributors_enabled=False, is_translator=False, is_translation_enabled=False, profile_background_color='C0DEED', profile_background_image_url='http://abs.twimg.com/images/themes/theme1/bg.png', profile_background_image_url_https='https://abs.twimg.com/images/themes/theme1/bg.png', profile_background_tile=False, profile_image_url='http://pbs.twimg.com/profile_images/992507874210349056/DigCYV6t_normal.jpg', profile_image_url_https='https://pbs.twimg.com/profile_images/992507874210349056/DigCYV6t_normal.jpg', profile_banner_url='https://pbs.twimg.com/profile_banners/65393621/1399058896', profile_link_color='1DA1F2', profile_sidebar_border_color='C0DEED', profile_sidebar_fill_color='DDEEF6', profile_text_color='333333', profile_use_background_image=True, has_extended_profile=False, default_profile=True, default_profile_image=False, following=False, follow_request_sent=False, notifications=False, translator_type='none'), geo=None, coordinates=None, place=None, contributors=None, is_quote_status=False, retweet_count=0, favorite_count=0, favorited=False, retweeted=False, possibly_sensitive=False, lang='en')"
      ]
     },
     "execution_count": 11,
     "metadata": {},
     "output_type": "execute_result"
    }
   ],
   "source": [
    "tweet_list[0]"
   ]
  },
  {
   "cell_type": "code",
   "execution_count": 12,
   "metadata": {},
   "outputs": [
    {
     "data": {
      "text/plain": [
       "['__class__',\n",
       " '__delattr__',\n",
       " '__dict__',\n",
       " '__dir__',\n",
       " '__doc__',\n",
       " '__eq__',\n",
       " '__format__',\n",
       " '__ge__',\n",
       " '__getattribute__',\n",
       " '__getstate__',\n",
       " '__gt__',\n",
       " '__hash__',\n",
       " '__init__',\n",
       " '__init_subclass__',\n",
       " '__le__',\n",
       " '__lt__',\n",
       " '__module__',\n",
       " '__ne__',\n",
       " '__new__',\n",
       " '__reduce__',\n",
       " '__reduce_ex__',\n",
       " '__repr__',\n",
       " '__setattr__',\n",
       " '__sizeof__',\n",
       " '__str__',\n",
       " '__subclasshook__',\n",
       " '__weakref__',\n",
       " '_api',\n",
       " '_json',\n",
       " 'author',\n",
       " 'contributors',\n",
       " 'coordinates',\n",
       " 'created_at',\n",
       " 'destroy',\n",
       " 'entities',\n",
       " 'favorite',\n",
       " 'favorite_count',\n",
       " 'favorited',\n",
       " 'geo',\n",
       " 'id',\n",
       " 'id_str',\n",
       " 'in_reply_to_screen_name',\n",
       " 'in_reply_to_status_id',\n",
       " 'in_reply_to_status_id_str',\n",
       " 'in_reply_to_user_id',\n",
       " 'in_reply_to_user_id_str',\n",
       " 'is_quote_status',\n",
       " 'lang',\n",
       " 'metadata',\n",
       " 'parse',\n",
       " 'parse_list',\n",
       " 'place',\n",
       " 'possibly_sensitive',\n",
       " 'retweet',\n",
       " 'retweet_count',\n",
       " 'retweeted',\n",
       " 'retweets',\n",
       " 'source',\n",
       " 'source_url',\n",
       " 'text',\n",
       " 'truncated',\n",
       " 'user']"
      ]
     },
     "execution_count": 12,
     "metadata": {},
     "output_type": "execute_result"
    }
   ],
   "source": [
    "#We can use the dir command to view a list of the attributes of each tweet\n",
    "dir(tweet_list[0])"
   ]
  },
  {
   "cell_type": "code",
   "execution_count": 13,
   "metadata": {},
   "outputs": [
    {
     "data": {
      "text/plain": [
       "['ICYMI - Chairman @GrassleyPress showing some love to Iowa charities for #GivingTuesday! Also works in a plug for th… https://t.co/XLZdwOeKm4',\n",
       " 'Incredibly proud of our work on #GivingTuesday. What an undertaking, but so worth it. Beyond raising critical $ for… https://t.co/BAFZl601sJ',\n",
       " 'RT @4THEGWORLS: This #GivingTuesday and Christmas holiday, consider giving the gift of safe housing and affirmative surgeries. \\u2063\\n\\nWe are tr…',\n",
       " 'RT @DrBiden: During the most challenging moments, small acts of kindness can often go the furthest, and the gift of your time can often be…',\n",
       " 'The average survival rate for malignant brain tumor patients is only 36%. Support research in the search for a cure… https://t.co/6EfX3seOQ8',\n",
       " 'Thank you for all your donations from last week for Giving Tuesday! We are so grateful. #givingtuesday #ecuador… https://t.co/OBnAK0M1wn',\n",
       " 'RT @RealPaulWalker: 7 years later we remember #PaulWalker as the\\xa0gracious and humble man we all love.\\n\\nWith tomorrow being #GivingTuesday,…',\n",
       " 'RT @atl_familymeal: Last week we delivered 10k Thanksgiving Dinners to families in need.  We have produced and distributed 163,000+ #ATLFAM…',\n",
       " 'RT @DrBiden: During the most challenging moments, small acts of kindness can often go the furthest, and the gift of your time can often be…',\n",
       " 'RT @MichelleObama: This #GivingTuesday, meet some of the remarkable girls from the @GirlsAlliance global community, along with a few of the…',\n",
       " '@iamcardib I run @sounds_center, an IL 501(c)(3) dedicated to providing tuition free music programs in our communit… https://t.co/V6OiKRvuAc',\n",
       " 'RT @MissAuroraSnow: For #GivingTuesday I nominate https://t.co/uWu89Qe6RI a nonprofit w/a cause close to my heart 💕  to improve the lives o…',\n",
       " 'RT @DrBiden: During the most challenging moments, small acts of kindness can often go the furthest, and the gift of your time can often be…',\n",
       " 'Also @iamcardib I donated to 5  charities on #GivingTuesday . I live on a nonprofit budget + saving for student loa… https://t.co/Auc5iPOzb4',\n",
       " 'We are so excited to let you know that you gave more than $40,000 on #GivingTuesday 🙌 This money will allow us to:… https://t.co/sJfxLeU371']"
      ]
     },
     "execution_count": 13,
     "metadata": {},
     "output_type": "execute_result"
    }
   ],
   "source": [
    "#Let's display the text of each tweet we found.\n",
    "[tweet.text for tweet in tweet_list]"
   ]
  },
  {
   "cell_type": "markdown",
   "metadata": {},
   "source": [
    "By default, the REST API returns 15 tweets.  We can get up to 100 by using the argument \"count\"."
   ]
  },
  {
   "cell_type": "code",
   "execution_count": 14,
   "metadata": {},
   "outputs": [
    {
     "data": {
      "text/plain": [
       "100"
      ]
     },
     "execution_count": 14,
     "metadata": {},
     "output_type": "execute_result"
    }
   ],
   "source": [
    "tweet_list = api.search(q='#givingTuesday', count = 100)\n",
    "len(tweet_list)"
   ]
  },
  {
   "cell_type": "code",
   "execution_count": 15,
   "metadata": {},
   "outputs": [
    {
     "data": {
      "text/plain": [
       "[\"RT @FairDefense: Why support TFDP this #GivingTuesday? Because poverty is not a crime. \\n\\nCheck out this video about TFDP's work to mitigate…\",\n",
       " 'ICYMI - Chairman @GrassleyPress showing some love to Iowa charities for #GivingTuesday! Also works in a plug for th… https://t.co/XLZdwOeKm4',\n",
       " 'Incredibly proud of our work on #GivingTuesday. What an undertaking, but so worth it. Beyond raising critical $ for… https://t.co/BAFZl601sJ',\n",
       " 'RT @4THEGWORLS: This #GivingTuesday and Christmas holiday, consider giving the gift of safe housing and affirmative surgeries. \\u2063\\n\\nWe are tr…',\n",
       " 'RT @DrBiden: During the most challenging moments, small acts of kindness can often go the furthest, and the gift of your time can often be…',\n",
       " 'The average survival rate for malignant brain tumor patients is only 36%. Support research in the search for a cure… https://t.co/6EfX3seOQ8',\n",
       " 'Thank you for all your donations from last week for Giving Tuesday! We are so grateful. #givingtuesday #ecuador… https://t.co/OBnAK0M1wn',\n",
       " 'RT @RealPaulWalker: 7 years later we remember #PaulWalker as the\\xa0gracious and humble man we all love.\\n\\nWith tomorrow being #GivingTuesday,…',\n",
       " 'RT @atl_familymeal: Last week we delivered 10k Thanksgiving Dinners to families in need.  We have produced and distributed 163,000+ #ATLFAM…',\n",
       " 'RT @DrBiden: During the most challenging moments, small acts of kindness can often go the furthest, and the gift of your time can often be…',\n",
       " 'RT @MichelleObama: This #GivingTuesday, meet some of the remarkable girls from the @GirlsAlliance global community, along with a few of the…',\n",
       " '@iamcardib I run @sounds_center, an IL 501(c)(3) dedicated to providing tuition free music programs in our communit… https://t.co/V6OiKRvuAc',\n",
       " 'RT @MissAuroraSnow: For #GivingTuesday I nominate https://t.co/uWu89Qe6RI a nonprofit w/a cause close to my heart 💕  to improve the lives o…',\n",
       " 'RT @DrBiden: During the most challenging moments, small acts of kindness can often go the furthest, and the gift of your time can often be…',\n",
       " 'Also @iamcardib I donated to 5  charities on #GivingTuesday . I live on a nonprofit budget + saving for student loa… https://t.co/Auc5iPOzb4',\n",
       " 'We are so excited to let you know that you gave more than $40,000 on #GivingTuesday 🙌 This money will allow us to:… https://t.co/sJfxLeU371',\n",
       " 'RT @axios: Highlights from our discussion on #GivingTuesday and #WorldAIDSDay on the global response to AIDS and COVID-19, ft. @everymomcou…',\n",
       " \"So I'm 5 days late but I suck at twitter  #givingtuesday https://t.co/916Oim7m26\",\n",
       " 'RT @robbhurstCPA: My #GivingTuesday personal story. Put together non profit to save my rural historic downtown performance theatre from shu…',\n",
       " \"RT @applesaughce: Yeah I hate asking for help like this but we're never going to save enough money for any of it.,., if u can't donate retw…\",\n",
       " \"RT @applesaughce: Yeah I hate asking for help like this but we're never going to save enough money for any of it.,., if u can't donate retw…\",\n",
       " 'RT @vintage_katie_: Access to water is about more than drinking and sanitation. Visit https://t.co/nfG3TmitE1 to find out more. Please cons…',\n",
       " \"RT @applesaughce: Yeah I hate asking for help like this but we're never going to save enough money for any of it.,., if u can't donate retw…\",\n",
       " 'RT @palyouthmvmt: DONATE TODAY! Because it’s #GivingTuesday, we are aiming to fundraise $5,000 as part of our ongoing fundraising campaign!…',\n",
       " 'RT @TeamWinter15: It’s giving Tuesday help us get this campaign moving. https://t.co/5pJY5dHhfZ \\n#GivingTuesday  #GivingTuesday2020',\n",
       " 'RT @RedHourBen: This winter season will bring even more challenges for #refugees during an already challenging year.\\n\\nBut together, we can…',\n",
       " \"RT @applesaughce: Yeah I hate asking for help like this but we're never going to save enough money for any of it.,., if u can't donate retw…\",\n",
       " \"RT @FYLFoundation: Here's a message from Josh Groban about #GivingTuesday! It's never been more important to support arts education. Follow…\",\n",
       " 'RT @wildearthguard: Thanks again for your support this past #GivingTuesday! Now you have another chance to give for the Wild on Tuesday, De…',\n",
       " 'RT @AGBecerra: As Californians come together for the greater good this #GivingTuesday, scammers are ready to capitalize on their generosity…',\n",
       " 'RT @AnthonyHopkins: Today on #GivingTuesday is an opportunity to come together and continue to support @nokidhungry \\n@AHCollection_ \\nhttps:…',\n",
       " 'RT @UnDiaParaDarAR: Llamado a Voluntario en Redes Sociales\\n🙋🏻\\u200d♀️🙋🏻\\u200d♀️🙋🏻\\u200d♀️\\n#UnDiaParaDarAR\\n#GivingTuesday https://t.co/rElS855BY3',\n",
       " 'RT @wildearthguard: Thanks again for your support this past #GivingTuesday! Now you have another chance to give for the Wild on Tuesday, De…',\n",
       " 'RT @KarmaCatZenDog: Heads up, all you generous people! Starting at 8am tomorrow, Facebook will be MATCHING #GivingTuesday donations up to $…',\n",
       " \"RT @WaterAidAmerica: Counting down to Sunday's premiere of #TheCrownSeason4.  Amazing @TribeTobias has raised $55k for clean water projects…\",\n",
       " \"@sloan_kettering https://t.co/avJeiWQCon here's a link to my mom's SKCC fundraiser from #GivingTuesday! just $35 away from the goal!\",\n",
       " 'RT @AshokaUS: This is what equity looks like: a fully supported work force of caregivers across America. This #GivingTuesday we thank Ashok…',\n",
       " 'RT @KarmaCatZenDog: Heads up, all you generous people! Starting at 8am tomorrow, Facebook will be MATCHING #GivingTuesday donations up to $…',\n",
       " 'RT @AshokaUS: This is what equity looks like: a fully supported work force of caregivers across America. This #GivingTuesday we thank Ashok…',\n",
       " 'RT @AshokaUS: This is what equity looks like: a fully supported work force of caregivers across America. This #GivingTuesday we thank Ashok…',\n",
       " 'RT @LAFoodBank: Los Angeles Regional Food Bank Supporters: we cannot thank you enough for your generosity during our #GivingTuesday challen…',\n",
       " 'RT @ICRC: Tragically 1 in 10 kids worldwide are affected by armed conflict.\\n\\nThis #GivingTuesday, you can help: https://t.co/vKXgHbrlye htt…',\n",
       " 'RT @sxtrovert: for years i’ve dealt w abuse, neglect, threats &amp; am reminded constantly that i’m unwanted in my own home. covid also cost me…',\n",
       " 'RT @heartful_ness: Heartfulness Institute had a fantastic experience at the #GivingTuesday event. We Thank You all from the bottom of our h…',\n",
       " 'RT @heartful_ness: #GivingTuesday Your donations have brought a smile 😊  to the faces of four million Heartfulness practitioners around the…',\n",
       " '#GivingTuesday has been extended https://t.co/zOgV7HrzA2',\n",
       " 'RT @WFPUSA: 💙 @WFP saves lives in times of crisis &amp; changes lives in times of peace.\\n\\nWe don’t just wish for peace 🕊️, we fight for it — fo…',\n",
       " 'RT @StAloysiusAcad: THANK YOU to all those who made a gift to St. Aloysius Academy on #GivingTuesday. Over 70 families donated $40,000! Bec…',\n",
       " 'RT @ConstellationAg: We can all be a source of charity and give back to those around us. The @DoGoodAutoCo is eager to put a smile on someo…',\n",
       " 'THANK YOU again for those who helped make #GivingTuesday such a success! Because of your generosity we surpassed la… https://t.co/ce1a3R7aGC',\n",
       " 'RT @cardinalohara: And the gifts for #GivingTuesday keep coming in! We are closing in on $30,000--just about $1,000 away! Please consider m…',\n",
       " 'RT @PIH: Health care is a human right, not a privilege. Around the world, we fight injustice by providing care first to those who need it m…',\n",
       " 'RT @psu_fayette: #GivingTuesday at Penn State is happening now! We’re fundraising to support our 11 award-winning athletics programs. Join…',\n",
       " 'RT @AshokaUS: This is what equity looks like: a fully supported work force of caregivers across America. This #GivingTuesday we thank Ashok…',\n",
       " 'RT @MalalaFund: “At the age of 11, circumstances beyond my control plunged my education — and my dreams for the future — into uncertainty.…',\n",
       " \"RT @dollyslibrary: Show your #ThanksByGiving on #GivingTuesday! Donate to Dolly Parton's Imagination Library and help give the gift of read…\",\n",
       " 'RT @upplaygrounds: Happy #GivingTuesday ! ❤️ \\n\\nWe rely on your donations to help bring #accessible #playgrounds to communities nationwide.…',\n",
       " 'Want to support a woman-owned business threatened with permanent closure due to COVID shutdown expenses?… https://t.co/ejBzp9dAv3',\n",
       " 'RT @PolarBears: Big bear hugs to all who donated in support of work on #GivingTuesday! You are amazing - we topped our $30K goal, which wil…',\n",
       " 'RT @StJohnBoscoHS: In less than two days, our generous Bosco Community has helped us raise over $5,000 towards our #GivingTuesday matching…',\n",
       " 'RT @MalalaFund: “At the age of 11, circumstances beyond my control plunged my education — and my dreams for the future — into uncertainty.…',\n",
       " 'RT @Shell_Canada: A desire to help sparked a big idea that is supporting many of Canada’s frontline heroes during the pandemic. This #Givin…',\n",
       " '@nonprofitorgs That is one scary statistic!\\n\\n\"63% of #GivingTuesday donors only give on Giving Tuesday\"',\n",
       " 'RT @ussoccer: Because of YOU, yesterday was the most successful #GivingTuesday in U.S. Soccer history! 🙌\\n\\nFrom donations big and small, tha…',\n",
       " 'RT @MSNBC: .@SteveKornacki’s khakis are more than just an internet sensation. They are doing some good!\\n\\nAs a part of #GivingTuesday, Steve…',\n",
       " 'RT @First1Break: We want to say THANK YOU to all of our supporters and donors from this weeks #GivingTuesday\\n\\nWe are so thankful for each a…',\n",
       " 'RT @wpbp: If donating to WPBP this #GivingTuesday, consider buying us a book we desperately need from our online wishlists at @blkgarnetboo…',\n",
       " 'RT @VoteAmerica: VoteAmerica mobilized millions of voters in the 2020 General Election. Now we’re focused on mobilizing Georgia voters for…',\n",
       " \"RT @GivingTuesday: Did you give to a nonprofit on #GivingTuesday? Use @2xDonations' search tool to see if your company will match your dona…\",\n",
       " 'RT @CASA4Children: During this holiday season, help us give the children we serve the opportunity to thrive in a safe, permanent and loving…',\n",
       " 'RT @Alain_Patron: Donate if it’s within your means. \\n\\n100% of the proceeds go directly to Black women in need. \\n#OkSoHelp \\n#GivingTuesday…',\n",
       " 'RT @CASA4Children: This season, give the gift of a CASA  volunteer. #GivingTuesday https://t.co/TSC0CtwAtH https://t.co/9rmyIjmOEQ',\n",
       " '@iamcardib The Harvey-Wilder Foundation raised a total of $1745 on #GivingTuesday. We thank you for anything that y… https://t.co/OjehwHGX7Q',\n",
       " \"RT @enriqueiglesias: This #GivingTuesday I'm raising money for @SavetheChildren and your contribution will make a difference, whether you d…\",\n",
       " 'Thank you, thank you, thank you! \\n\\nThanks to the generosity of individuals from across the nation we have met our g… https://t.co/Jm1wDnA4PJ',\n",
       " 'RT @robbhurstCPA: My #GivingTuesday personal story. Put together non profit to save my rural historic downtown performance theatre from shu…',\n",
       " \"RT @MisElizaJane: Hey everyone! It's #GivingTuesday and I wanted to talk to you about some amazing things happening in the LHL world 🥰  It…\",\n",
       " 'RT @SJAOntario: SJA Ontario would like to thank all of our supporters who helped make #GivingTuesday a success this year. Your kind donatio…',\n",
       " 'RT @AnthonyHopkins: Today on #GivingTuesday is an opportunity to come together and continue to support @nokidhungry \\n@AHCollection_ \\nhttps:…',\n",
       " \"RT @ussoccer: As part of U.S. Soccer's #GivingTuesday campaign, Presented by @VW, @VW is directing $15,000 of its U.S. Soccer sponsorship t…\",\n",
       " \"RT @ussoccer: We're inspiring the next generation of great female coaches and players. \\n\\nJoin us tomorrow for U.S. Soccer's #GivingTuesday…\",\n",
       " 'RT @sxtrovert: for years i’ve dealt w abuse, neglect, threats &amp; am reminded constantly that i’m unwanted in my own home. covid also cost me…',\n",
       " 'RT @sxtrovert: for years i’ve dealt w abuse, neglect, threats &amp; am reminded constantly that i’m unwanted in my own home. covid also cost me…',\n",
       " '@iamcardib Hi, @iamcardib ! Please consider giving to Carter’s House, a non-profit providing South Dallas (impoveri… https://t.co/6QCUJK0F57',\n",
       " 'RT @jaimecamil: Thank you very much 🙏🏼🙇🏽 By requesting me on @BookCameo you’ve helped me support @GlobalGiving &amp; @CasadelaAmistad 🙌🏼🎉 / Muc…',\n",
       " \"RT @ussoccer: We're inspiring the next generation of great female coaches and players. \\n\\nJoin us tomorrow for U.S. Soccer's #GivingTuesday…\",\n",
       " \"RT @ussoccer: As part of U.S. Soccer's #GivingTuesday campaign, Presented by @VW, @VW is directing $15,000 of its U.S. Soccer sponsorship t…\",\n",
       " 'RT @ussoccer: Because of YOU, yesterday was the most successful #GivingTuesday in U.S. Soccer history! 🙌\\n\\nFrom donations big and small, tha…',\n",
       " \"RT @Indiegogo: For #GivingTuesday @belletristbooks teamed up with @nabuorg to create a children's book that uses the power of diverse story…\",\n",
       " \"RT @bookspringatx: #Kids today need hope and good #stories to fill their days! With your support we can fill children's homes with #books t…\",\n",
       " 'RT @MMPress_: We know how hard it is for children, educators, and nonprofits to access high-quality diverse literature. That is why we star…',\n",
       " 'RT @LanaMelman: TWO WAYS TO TAKE PART in #GivingTuesday:\\n1. 𝐃𝐎𝐍𝐀𝐓𝐄 𝐇𝐄𝐑𝐄: https://t.co/f1xm7D54rF\\n2. 𝐃𝐎𝐍𝐀𝐓𝐄 𝐃𝐈𝐑𝐄𝐂𝐓: https://t.co/GvAJX4lVo1…',\n",
       " 'RT @nonprofitorgs: Did you know that 63% of #GivingTuesday donors only give on Giving Tuesday? Use this 5-week email strategy to retain and…',\n",
       " 'RT @PowersGiving: For #GivingTuesday Our amazing founder Askari Powers has generously offered to match dollar for dollar up to $1,000 ! So…',\n",
       " 'RT @ussoccer: Because of YOU, yesterday was the most successful #GivingTuesday in U.S. Soccer history! 🙌\\n\\nFrom donations big and small, tha…',\n",
       " 'RT @RobertDowneyJr: Hungry kids depend on #ExtraordinaryGenerosity to get the food they need to thrive. This #GivingTuesday, we can all hel…',\n",
       " \"RT @enriqueiglesias: This #GivingTuesday I'm raising money for @SavetheChildren and your contribution will make a difference, whether you d…\",\n",
       " 'Did you know that 63% of #GivingTuesday donors only give on Giving Tuesday? Use this 5-week email strategy to retai… https://t.co/hPq5lCYe8A',\n",
       " 'RT @TMobile: Help fight hunger by #GivingOnUs.\\n\\nRetweet this message today and we’ll help @FeedingAmerica donate 10 meals on your behalf fo…',\n",
       " 'RT @MSNBC: .@SteveKornacki’s khakis are more than just an internet sensation. They are doing some good!\\n\\nAs a part of #GivingTuesday, Steve…']"
      ]
     },
     "execution_count": 15,
     "metadata": {},
     "output_type": "execute_result"
    }
   ],
   "source": [
    "[tweet.text for tweet in tweet_list]"
   ]
  },
  {
   "cell_type": "markdown",
   "metadata": {},
   "source": [
    "If we want more than 100 tweets, we can use a *while* loop.  The max_id argument lets us collect tweets that are older than a particular tweet index (in this case, the oldest tweet we've seen so far).\n",
    "\n",
    "The `try/except/else` structure lets us fail gracefully in case the API search returns an error (e.g., if we run up against Twitter's rate limits)."
   ]
  },
  {
   "cell_type": "code",
   "execution_count": 16,
   "metadata": {},
   "outputs": [
    {
     "data": {
      "text/plain": [
       "200"
      ]
     },
     "execution_count": 16,
     "metadata": {},
     "output_type": "execute_result"
    }
   ],
   "source": [
    "num_needed = 200\n",
    "tweet_list = []\n",
    "last_id = -1 # id of last tweet seen\n",
    "while len(tweet_list) < num_needed:\n",
    "    try:\n",
    "        new_tweets = api.search(q = '#givingTuesday', count = 100, max_id = str(last_id - 1), \n",
    "                               lang = 'en', tweet_mode = 'extended')\n",
    "    except tweepy.TweepError as e:\n",
    "        print(\"Error\", e)\n",
    "        break\n",
    "    else:\n",
    "        if not new_tweets:\n",
    "            print(\"Could not find any more tweets!\")\n",
    "            break\n",
    "        tweet_list.extend(new_tweets)\n",
    "        last_id = new_tweets[-1].id\n",
    "\n",
    "len(tweet_list)"
   ]
  },
  {
   "cell_type": "markdown",
   "metadata": {},
   "source": [
    "Note that the free REST API restricts the number of tweets you can retrieve, and the dates: you may not be able to retrieve tweets that are more than a week old.  Pay attention to this restriction as you approach your final project topic!"
   ]
  },
  {
   "cell_type": "markdown",
   "metadata": {},
   "source": [
    "## Method 2. The Streaming API\n",
    "\n",
    "The Streaming API allows us to monitor Twitter in real time, grabbing tweets as they are made."
   ]
  },
  {
   "cell_type": "markdown",
   "metadata": {},
   "source": [
    "The ```tweepy``` package includes a class called ```StreamListener``` which monitors Twitter for us.  However, by default StreamListener does nothing with the tweets it collects.\n",
    "\n",
    "In this demonstration, we'll modify ```StreamListener``` to make a class that prints each tweet we're interested in to the screen.  Later, you may wish to create your own class which saves information from tweets to a file."
   ]
  },
  {
   "cell_type": "code",
   "execution_count": 20,
   "metadata": {},
   "outputs": [],
   "source": [
    "#We create a subclass of tweepy.StreamListener to add a response to on_status\n",
    "\n",
    "class PrintingStreamListener(tweepy.StreamListener):\n",
    "\n",
    "    def on_status(self, status):\n",
    "        print(status.text)\n",
    "        \n",
    "    #disconnect the stream if we receive an error message indicating we are overloading Twitter\n",
    "    \n",
    "    def on_error(self, status_code):\n",
    "        if status_code == 420:\n",
    "            #returning False in on_data disconnects the stream\n",
    "            return False\n",
    " "
   ]
  },
  {
   "cell_type": "markdown",
   "metadata": {},
   "source": [
    "Once we have created our subclass, we can set up our own Twitter stream."
   ]
  },
  {
   "cell_type": "code",
   "execution_count": 21,
   "metadata": {},
   "outputs": [],
   "source": [
    "#We create and authenticate an instance of our new ```PrintingStreamListener``` class\n",
    "\n",
    "my_stream_listener = PrintingStreamListener()\n",
    "my_stream = tweepy.Stream(auth = api.auth, listener=my_stream_listener)"
   ]
  },
  {
   "cell_type": "markdown",
   "metadata": {},
   "source": [
    "We'll use the ```track``` command to look for tweets with a specific keyword.  You can read more about constructing searches with ```track``` in the <a href=\"https://dev.twitter.com/streaming/overview/request-parameters#track\">Twitter streaming API documentation</a>."
   ]
  },
  {
   "cell_type": "code",
   "execution_count": 19,
   "metadata": {},
   "outputs": [
    {
     "name": "stdout",
     "output_type": "stream",
     "text": [
      "RT @simangeo: Esto pasa en Yemen auspiciado por Arabia Saudita apoyada y armada por EEUU, algunos gobiernos de Europa e Israel.\n",
      "Pero como l…\n",
      "RT @ladygaga: Join me and give to @BTWFoundation for #GivingTuesday. We’re working hard to support youth mental wellness and collaborate wi…\n",
      "RT @simangeo: Esto pasa en Yemen auspiciado por Arabia Saudita apoyada y armada por EEUU, algunos gobiernos de Europa e Israel.\n",
      "Pero como l…\n",
      "We took the “opportunity “ to help many who appreciate more than most any help they can get #rotaryclub… https://t.co/KvbSBzjRL0\n",
      "RT @SteveKornacki: As I explained to the Gap, I already have three pairs of pants, so I'm all set for next decade or so. I think this plan…\n",
      "RT @FairDefense: Why support TFDP this #GivingTuesday? Because poverty is not a crime. \n",
      "\n",
      "Check out this video about TFDP's work to mitigate…\n",
      "RT @tparamronnoCO: Today is #GivingTuesday - a day to give back to people around the world!\n",
      "https://t.co/TBvTnSkobN https://t.co/nRgU3QRRqP\n",
      "@MeekMill @MeekMill We've got to admire the drive and entrepreneurship within these 👦👧. #GivingTuesday https://t.co/Er6ODAi0eQ\n",
      "RT @sxtrovert: for years i’ve dealt w abuse, neglect, threats &amp; am reminded constantly that i’m unwanted in my own home. covid also cost me…\n",
      "RT @ladygaga: Join me and give to @BTWFoundation for #GivingTuesday. We’re working hard to support youth mental wellness and collaborate wi…\n",
      "RT @JoyceMeyer: 790 million people don’t have access to clean water.  However, we were able to provided 200 water wells in 2019.  Donate an…\n",
      "RT @ladygaga: Join me and give to @BTWFoundation for #GivingTuesday. We’re working hard to support youth mental wellness and collaborate wi…\n",
      "@amyres11 We love this!! Thank you so much for sharing! We're so happy we were able to support so many amazing teachers on GivingTuesday ❤️\n",
      "Today is #GivingTuesday\n",
      " . Today is a great day to support your local #college or #university.  Consider supporting… https://t.co/IhWDoxMI3P\n",
      "RT @AWilderDoctor: @iamcardib The Harvey-Wilder Foundation raised a total of $1745 on #GivingTuesday. We thank you for anything that you’re…\n",
      "RT @razorbanker: We took the “opportunity “ to help many who appreciate more than most any help they can get #rotaryclub #opportunity #Rota…\n",
      "RT @ladygaga: Join me and give to @BTWFoundation for #GivingTuesday. We’re working hard to support youth mental wellness and collaborate wi…\n",
      "RT @ShakariSBriggs: @iamcardib Hi, @iamcardib ! Please consider giving to Carter’s House, a non-profit providing South Dallas (impoverished…\n",
      "@bestfriends thanks for the work you do! #CatsOfTwitter #cat #GivingTuesday #love\n",
      "RT @ITeachTooRM32: Sing it with me! 🎤 If you can, please sprinkle some holiday magic on my #donorschoose. You can help by either donating o…\n",
      "RT @Adopt_A_Boxer: This giving Tuesday, please consider a gift to help the mill Moms . Trixie is on her way to our vet right now. Trixie ha…\n",
      "RT @simangeo: Esto pasa en Yemen auspiciado por Arabia Saudita apoyada y armada por EEUU, algunos gobiernos de Europa e Israel.\n",
      "Pero como l…\n",
      "RT @ShantiBhavan: #GIVINGTUESDAY UPDATE: Thanks to you, we raised more than $120,000 and we'll also receive a matching gift of $100,000! TH…\n",
      "@GivingTuesday @gofundme Hello, i am sharing a gofundme page for a friend, They were hit by a drunk driver a few mo… https://t.co/WKqOdtwmtM\n",
      "RT @MSNBC: .@SteveKornacki’s khakis are more than just an internet sensation. They are doing some good!\n",
      "\n",
      "As a part of #GivingTuesday, Steve…\n",
      "@iamcardib Please support young African American men at @EZTAYLORFDN earn scholarships. I dropped a big check to th… https://t.co/Bg266Plq05\n",
      "RT @codepink: The Senate passed a new Pentagon budget but still hasn't passed another COVID relief bill. \n",
      "\n",
      "Make it make sense. 😩\n",
      "\n",
      "This #Giv…\n",
      "RT @msms_facs: Check out my classroom on \n",
      "@DonorsChoose \n",
      "! I'd love your help to bring my project to life:  https://t.co/uRN4XjqWhU \n",
      "\n",
      "Only…\n",
      "RT @PawsForReaction: Will you go Two for Tuesday with me? I'm asking you to join me and do these two things on Giving Tuesday to support lo…\n",
      "RT @PawsForReaction: Will you go Two for Tuesday with me? I'm asking you to join me and do these two things on Giving Tuesday to support lo…\n",
      "Thank you Lisa Kiper for supporting us during #GivingTuesday! https://t.co/5DnIc9LOFF\n",
      "RT @shouston1781: Also @iamcardib I donated to 5  charities on #GivingTuesday . I live on a nonprofit budget + saving for student loans whe…\n",
      "RT @RobertDowneyJr: Hungry kids depend on #ExtraordinaryGenerosity to get the food they need to thrive. This #GivingTuesday, we can all hel…\n",
      "Now that’s cute! I needed to hear this today!\n",
      "RT @simangeo: Esto pasa en Yemen auspiciado por Arabia Saudita apoyada y armada por EEUU, algunos gobiernos de Europa e Israel.\n",
      "Pero como l…\n",
      "RT @StJohnBoscoHS: In less than two days, our generous Bosco Community has helped us raise over $5,000 towards our #GivingTuesday matching…\n",
      "@iamcardib @iamcardib pls match my #GivingTuesday gift to @EZTAYLORFDN. They provide college scholarships to Black… https://t.co/veGn7ykkMN\n",
      "RT @MSNBC: .@SteveKornacki’s khakis are more than just an internet sensation. They are doing some good!\n",
      "\n",
      "As a part of #GivingTuesday, Steve…\n",
      "RT @MilFamiliesMag: Check out some of the amazing &amp; creative ways military spouses stepped up for their communities in honor of @GivingTues…\n",
      "RT @BTWFoundation: If you weren’t able to donate yesterday for #GivingTuesday, you can still help us build a kinder + braver world! ❤️🌎 Sup…\n",
      "RT @simangeo: Esto pasa en Yemen auspiciado por Arabia Saudita apoyada y armada por EEUU, algunos gobiernos de Europa e Israel.\n",
      "Pero como l…\n",
      "RT @AllStarsforKids: #GivingTuesday was a success!\n",
      "\n",
      "If you didn't get the chance to participate yesterday, it's not too late to invest in o…\n",
      "@iamcardib We provide #scholarships to Black males impacted by #gunviolence would love for you to match the… https://t.co/yyT3FZK3Gf\n",
      "RT @katyperry: A little birdie told me you wanted #ShoesdayTuesday back, and I figured why not come back with a 🎇BURST🎆 on #GivingTuesday?…\n",
      "RT @MSNBC: .@SteveKornacki’s khakis are more than just an internet sensation. They are doing some good!\n",
      "\n",
      "As a part of #GivingTuesday, Steve…\n",
      "RT @simangeo: Esto pasa en Yemen auspiciado por Arabia Saudita apoyada y armada por EEUU, algunos gobiernos de Europa e Israel.\n",
      "Pero como l…\n",
      "RT @MSNBC: .@SteveKornacki’s khakis are more than just an internet sensation. They are doing some good!\n",
      "\n",
      "As a part of #GivingTuesday, Steve…\n",
      "RT @TheSEEDSchoolMD: Thank you for supporting The SEED School of Maryland on #GivingTuesday. Your generosity will help us provide our stude…\n",
      "RT @katyperry: A little birdie told me you wanted #ShoesdayTuesday back, and I figured why not come back with a 🎇BURST🎆 on #GivingTuesday?…\n",
      "@iamcardib @ActVoluntarily https://t.co/UtFDtRjtlc\n",
      "RT @heartful_ness: #GivingTuesday Your donations have brought a smile 😊  to the faces of four million Heartfulness practitioners around the…\n",
      "RT @SanDiegoPride: You still have time to help support 4 of San Diego Pride's year-round programs on this #GivingTuesday ! Drop a heart if…\n",
      "RT @heartful_ness: Heartfulness Institute had a fantastic experience at the #GivingTuesday event. We Thank You all from the bottom of our h…\n",
      "a baianagem KKKKKKKK\n",
      "RT @SchneiderElec: Our employees are giving back to communities and causes that need them the most by donating time, skills or money on @Gi…\n",
      "RT @empowerhouseva: This #GivingTuesday please support our Youth Resiliency Team continue to put caring, creative services into place to en…\n",
      "RT @FarmSanctuary: This #GivingTuesday you can DOUBLE your impact for farm animals thanks to our friends at @exploreorg!\n",
      "\n",
      "We strive to impr…\n",
      "RT @LGBTCenter: ✨ Today is #GivingTuesday and also one of two Center monthly food banks. Amidst so much uncertainty, The Center is working…\n",
      "RT @SteveKornacki: As I explained to the Gap, I already have three pairs of pants, so I'm all set for next decade or so. I think this plan…\n",
      "RT @SteveKornacki: As I explained to the Gap, I already have three pairs of pants, so I'm all set for next decade or so. I think this plan…\n",
      "RT @realmikefox: With your support, @MichaelJFoxOrg has funded $1 billion in research in less than two decades. In the quest for a cure, we…\n",
      "@iamcardib I work for RE-Center Race &amp; Equity in Education. We did on FB fundraiser last week for GivingTuesday. We… https://t.co/zlBcSGfghU\n"
     ]
    },
    {
     "name": "stdout",
     "output_type": "stream",
     "text": [
      "A great cause\n",
      "RT @mjscopel: A great cause https://t.co/5QmdtMvxqy\n",
      "RT @SteveKornacki: As I explained to the Gap, I already have three pairs of pants, so I'm all set for next decade or so. I think this plan…\n",
      "@iamcardib https://t.co/IW7iOmkbTb\n",
      "@iamcardib challenge accepted:)\n",
      "I’m the MSW intern for a Korean-American 501C3 i… https://t.co/n9zhy08T6A\n",
      "RT @MSNBC: .@SteveKornacki’s khakis are more than just an internet sensation. They are doing some good!\n",
      "\n",
      "As a part of #GivingTuesday, Steve…\n",
      "RT @mssociety: Tomorrow, Dec 1, the world will come together to make a difference. #GivingTuesday is a global day of giving. If you can, pl…\n",
      "RT @SteveKornacki: As I explained to the Gap, I already have three pairs of pants, so I'm all set for next decade or so. I think this plan…\n",
      "RT @nokidhungry: Citi is keeping the giving going! After matching donations up to $200K on #GivingTuesday, @Citibank will donate 10 cents e…\n",
      "RT @heartful_ness: #GivingTuesday Your donations have brought a smile 😊  to the faces of four million Heartfulness practitioners around the…\n",
      "RT @JoyceMeyer: 790 million people don’t have access to clean water.  However, we were able to provided 200 water wells in 2019.  Donate an…\n",
      "An AMA-ZING FOUNDATION @iamcardib I used to donate when I was living in Dallas! They spend the money of the PPL TOO!\n",
      "@iamcardib @greenwoodprochi raised 50k on @GivingTuesday to introduce Black and Latinx students to careers in finan… https://t.co/CH5XDqrQd7\n",
      "RT @SteveKornacki: As I explained to the Gap, I already have three pairs of pants, so I'm all set for next decade or so. I think this plan…\n",
      "RT @SteveKornacki: As I explained to the Gap, I already have three pairs of pants, so I'm all set for next decade or so. I think this plan…\n",
      "RT @SweetRelief: Thank you so much for your support of Sweet Relief and our mission. Because of your donations on #GivingTuesday, we are ab…\n",
      "@iamcardib https://t.co/Rj39Ut4Eb0 I’m fundraising for Cat Tales Wildlife in Washington State for #GivingTuesday! Y… https://t.co/nfK4H134SL\n",
      "RT @PIH: Health care is a human right, not a privilege. Around the world, we fight injustice by providing care first to those who need it m…\n",
      "RT @SCPSInfo: Our @SCPSCommInvolv will be holding our annual \"Giving Tree\" toy and gift-card drive from now through December 9th!  Donation…\n",
      "RT @heartful_ness: #GivingTuesday Your donations have brought a smile 😊  to the faces of four million Heartfulness practitioners around the…\n",
      "RT @heartful_ness: Heartfulness Institute had a fantastic experience at the #GivingTuesday event. We Thank You all from the bottom of our h…\n",
      "RT @SchneiderElec: Our employees are giving back to communities and causes that need them the most by donating time, skills or money on @Gi…\n",
      "#31daysofsafaristewardship #day7\n",
      "\n",
      "The Elephant Express by @naturalselectiontravel supports human-wildlife… https://t.co/miNCixcTPW\n",
      "RT @paradicecasino: #GivingTuesday came just in time for you to vote in Wreaths of Hope at @paradicecasino. This charitable giving campaign…\n",
      "RT @EquineAdvocates: THREAD:\n",
      "#SponsorSpotlight - In celebration of #GivingTuesday, we will be introducing you to some of our equines lookin…\n",
      "RT @pandamoonxo: Help Our QTPOC Co-op Stay Warm This Winter #GivingTuesday https://t.co/jPlJa7YTIS\n",
      "RT @pandamoonxo: Content warning: Domestic violence, attempted kidnapping. Please help Tee’s family with their GFM “Lucky2BAlive”\n",
      "#GivingTu…\n",
      "RT @IslamicRelief: A donation of $60 can give an electric heater to someone in need this winter. \n",
      "\n",
      "Give Warmth this #GivingTuesday: https:/…\n",
      "RT @MustangRehab: Thanks to Pamela, Theresa and Dana. Your support is so much needed and appreciated ❤️\n",
      "RT @SMH_Hamilton: Today is #GivingTuesday Our Adopt a Family/Seniors Holiday Program is in need of teen and senior gift cards. If you would…\n",
      "RT @RolfeFoundation: THANK YOU SO MUCH! Our incredible Rolfe community came together on #GivingTuesday and shattered our original fundraisi…\n",
      "RT @simangeo: Esto pasa en Yemen auspiciado por Arabia Saudita apoyada y armada por EEUU, algunos gobiernos de Europa e Israel.\n",
      "Pero como l…\n",
      "RT @AlmaqtariFatima: In #Yemen, Today marks as:-\n",
      "\n",
      " Five Years Of War.\n",
      "\n",
      "Five Years Of Siege.\n",
      "\n",
      "Five Years Of Suffer.\n",
      "\n",
      "Five Years Of Hunger.…\n",
      "RT @theNewmanNation: THANK YOU!!!!! Between Facebook and PayPal donations, we hit the $5,000 fundraising goal! Thank you all so much for ma…\n",
      "RT @MarkRuffalo: I want to give a shout out to my friends @PublicHerald, w/ whom I produced the recent Rights of Nature film Invisible Hand…\n",
      "RT @MyOCN: Happy #GivingTuesday everyone! As you consider supporting your favorite causes, we ask that you please consider supporting OCN t…\n",
      "Hey #Chicago! .@theNewmanNation #fundraiser by Terry's Pet Rockz!\n",
      "\n",
      "Extended to Saturday 12/12 for #holiday delivery… https://t.co/4LNGdGlObt\n",
      "RT @pandamoonxo: Justin's Journey #GivingTuesday https://t.co/HGvvxwge41\n",
      "RT @lawsintexasusa: WARNING: DISTURBING NEWS\n",
      "\n",
      "The Lawyers:\n",
      "\n",
      " \"We run the Country - and still do\"\n",
      "\n",
      "The Lawyers:\n",
      "\n",
      " \"We Make the Laws advantag…\n",
      "RT @batteriesplus: Together with @Duracell , we’re celebrating Giving Tuesday by donating 60,000 AA batteries to Toys for Tots. Because ele…\n",
      "This 💕 Thank-you @Colts\n",
      "need to spend your CARES $300? #disabilityjustice #cripthevote\n",
      "GivingTuesday 2020 raises an estimated $2.47 billion in U.S. | News | PND https://t.co/DyqMDF4yNA\n",
      "RT @USAHockeyNTDP: We are keeping the Teddy Bear Toss tradition alive! 🧸\n",
      "\n",
      "For just $5, you can donate a teddy bear to the United Way and a…\n",
      "RT @SidRothTV: Today is #GivingTuesday a day dedicated to generosity! It's our VISION and God-given mission to bless the Jewish people and…\n",
      "Can you imagine what it would be like if the \"Health Care\" providers in our lives REALLY cared about YOU, and did n… https://t.co/qVXSxBmVnM\n",
      "RT @USASwimming: In honor of #GivingTuesday, we're giving away @SwimFoundation hat &amp; yeti cup. 🙌 \n",
      "\n",
      "Retweet for your chance to win!\n",
      "\n",
      "#12Days…\n",
      "RT @USASwimming: In honor of #GivingTuesday, we're giving away @SwimFoundation hat &amp; yeti cup. 🙌 \n",
      "\n",
      "Retweet for your chance to win!\n",
      "\n",
      "#12Days…\n",
      "RT @nonprofitorgs: Did you know that 63% of #GivingTuesday donors only give on Giving Tuesday? Use this 5-week email strategy to retain and…\n",
      "Student spotlight: Mercy Edward.\n",
      "Mercy loves drawing and dancing. Her new-found passion is photography. A good educ… https://t.co/KWCoZPI4ul\n",
      "Scary #GivingTuesday stat. #GivingTuesday2020 #fundraising\n",
      "RT @ACEofPBC: 1 in 4 working #families in our country is low income, and 1 in every 5 #children lives in poverty. If you know someone who c…\n",
      "@iamcardib on #GivingTuesday we collected over 10.5k in donations all going towards humanitarian efforts at… https://t.co/VqVvgMXCnZ\n",
      "In the spirit of the season and helping our local youth prosper through alternative education in technical pathways… https://t.co/P5f3LUPmIF\n",
      "Giving Tuesday is here! Give a gift to one of these charities of $1000 (or more!) and Don will gift you with a race… https://t.co/50ny1hXJbI\n",
      "RT @ESPNRadio: \"I'm here talking to you today because of @TheVFoundation.\"\n",
      "\n",
      "You're an inspiration, @sportsiren ♥️\n",
      "\n",
      "You can support The V Fo…\n",
      "RT @guapojot: @iamcardib on #GivingTuesday we collected over 10.5k in donations all going towards humanitarian efforts at @KhalsaAidUSA @Kh…\n",
      "RT @SuMoh7: Support ✨Democrats Work For America✨\n",
      "\n",
      "➡️https://t.co/TOwrzHfXZd\n",
      "\n",
      "#VoteBlue #GivingTuesday \n",
      "#DemsWork4USA\n",
      "RT @guapojot: @iamcardib on #GivingTuesday we collected over 10.5k in donations all going towards humanitarian efforts at @KhalsaAidUSA @Kh…\n",
      "RT @guapojot: @iamcardib on #GivingTuesday we collected over 10.5k in donations all going towards humanitarian efforts at @KhalsaAidUSA @Kh…\n",
      "Please retweet this original tweet, and tag @iamcardib\n",
      "Wish I could do more to help..if only ...EVERYONE would do something nice for others...WOW! It has surprised how sm… https://t.co/Zkp5lwouKn\n",
      "@iamcardib\n",
      "@iamcardib\n",
      "RT @guapojot: @iamcardib on #GivingTuesday we collected over 10.5k in donations all going towards humanitarian efforts at @KhalsaAidUSA @Kh…\n",
      "RT @MDDefenderUnion: This #GivingTuesday , consider donating to a local bail fund. With COVID-19 case rates surging, incarceration has neve…\n",
      "RT @handichienscom: Merci @allianzfrance et à ses salariés qui nous accompagnent via le @microdon_fr . Ils sont plus de 300 chaque mois, br…\n"
     ]
    },
    {
     "name": "stdout",
     "output_type": "stream",
     "text": [
      "@iamcardib ❗️\n",
      "RT @guapojot: Please retweet this original tweet, and tag @iamcardib\n",
      "@iamcardib we donated over 10.5k to @KhalsaAidUSA @Khalsa_Aid on GivingTuesday. We have receipts on a donations, th… https://t.co/3HHa2afc3p\n",
      "RT @ElodieParre: @l_arrondi sur salaire ou comment l'entreprise donne la possibilité a ses collaborateurs de s'engager. Une initiative lanc…\n",
      "@iamcardib ‼‼\n",
      "RT @guapojot: @iamcardib on #GivingTuesday we collected over 10.5k in donations all going towards humanitarian efforts at @KhalsaAidUSA @Kh…\n",
      "RT @AtacOrg: ATAC is working hard each day to improve the lives of every Arizonan. We understand that this can be a difficult time of year…\n",
      "RT @guapojot: @iamcardib on #GivingTuesday we collected over 10.5k in donations all going towards humanitarian efforts at @KhalsaAidUSA @Kh…\n",
      "RT @guapojot: @iamcardib on #GivingTuesday we collected over 10.5k in donations all going towards humanitarian efforts at @KhalsaAidUSA @Kh…\n",
      "We would like to express our gratitude to everyone who donated on #GivingTuesday. In this special time where the si… https://t.co/trz8RlfFDf\n",
      "RT @guapojot: @iamcardib on #GivingTuesday we collected over 10.5k in donations all going towards humanitarian efforts at @KhalsaAidUSA @Kh…\n",
      "RT @SteveKornacki: As I explained to the Gap, I already have three pairs of pants, so I'm all set for next decade or so. I think this plan…\n",
      "RT @AutodeskFdn: It's Global Month of Giving at @Autodesk - a time to celebrate all the ways Autodeskers give back &amp; drive positive impact…\n",
      "RT @tinykittensHQ: &lt;3\n",
      "RT @guapojot: @iamcardib on #GivingTuesday we collected over 10.5k in donations all going towards humanitarian efforts at @KhalsaAidUSA @Kh…\n",
      "@dmsstem @FUTURES_Inc @DonorsChoose @FamilyAlbum @DMS_CHARGERS @VolusiaSTEM @volusiaschools @VolusiaCTE… https://t.co/s3hTbLkg3g\n",
      "RT @guapojot: @iamcardib on #GivingTuesday we collected over 10.5k in donations all going towards humanitarian efforts at @KhalsaAidUSA @Kh…\n",
      "RT @guapojot: @iamcardib on #GivingTuesday we collected over 10.5k in donations all going towards humanitarian efforts at @KhalsaAidUSA @Kh…\n",
      "RT @siriyonce_: Hey welcome to 12 Days of Giving! Let’s close out the year by distributing mutual aid to our Black queer and trans family!…\n",
      "RT @guapojot: @iamcardib on #GivingTuesday we collected over 10.5k in donations all going towards humanitarian efforts at @KhalsaAidUSA @Kh…\n",
      "RT @JoyceMeyer: 790 million people don’t have access to clean water.  However, we were able to provided 200 water wells in 2019.  Donate an…\n",
      "RT @guapojot: @iamcardib on #GivingTuesday we collected over 10.5k in donations all going towards humanitarian efforts at @KhalsaAidUSA @Kh…\n",
      "RT @guapojot: @iamcardib on #GivingTuesday we collected over 10.5k in donations all going towards humanitarian efforts at @KhalsaAidUSA @Kh…\n",
      "RT @siriyonce_: Hey welcome to 12 Days of Giving! Let’s close out the year by distributing mutual aid to our Black queer and trans family!…\n",
      "RT @tebowfoundation: Today, thanks to Faith, Hope and Love and the team at the @tebowcure Hospital, Zane is a healthy and happy baby boy.…\n",
      "RT @siriyonce_: Hey welcome to 12 Days of Giving! Let’s close out the year by distributing mutual aid to our Black queer and trans family!…\n",
      "RT @iamsurio: 😏 KALU comparte la Técnica #Tantrica 🍆🍆 Continua intenso en 👉 https://t.co/yXOt0QixZi 🔥-%2️⃣0️⃣ OFF\n",
      "\n",
      "🌝 Avancemos! Próximo Cap…\n",
      "RT @robbhurstCPA: My #GivingTuesday personal story. Put together non profit to save my rural historic downtown performance theatre from shu…\n",
      "@iamcardib\n",
      "RT @guapojot: @iamcardib on #GivingTuesday we collected over 10.5k in donations all going towards humanitarian efforts at @KhalsaAidUSA @Kh…\n",
      "Not her selling literal clown shoes https://t.co/3A0yda7xs4\n",
      "RT @AutodeskFdn: It's Global Month of Giving at @Autodesk - a time to celebrate all the ways Autodeskers give back &amp; drive positive impact…\n",
      "@iamcardib I donate monthly to @AAPolicyForum led by @sandylocks who originated #SayHerName\n",
      "\n",
      "The org focuses on int… https://t.co/EJvJNhpNQv\n",
      "RT @guapojot: @iamcardib on #GivingTuesday we collected over 10.5k in donations all going towards humanitarian efforts at @KhalsaAidUSA @Kh…\n",
      "@iamcardib\n",
      "RT @toofound: WE DID IT! 26 people made the decision to engage with TOOF's mission through monthly donations on #GivingTuesday. Thank y'all…\n",
      "#Love &amp; #PositiveVibes\n"
     ]
    },
    {
     "ename": "ReadTimeoutError",
     "evalue": "HTTPSConnectionPool(host='stream.twitter.com', port=443): Read timed out.",
     "output_type": "error",
     "traceback": [
      "\u001b[0;31m---------------------------------------------------------------------------\u001b[0m",
      "\u001b[0;31mWantReadError\u001b[0m                             Traceback (most recent call last)",
      "\u001b[0;32m~/opt/anaconda3/lib/python3.7/site-packages/urllib3/contrib/pyopenssl.py\u001b[0m in \u001b[0;36mrecv_into\u001b[0;34m(self, *args, **kwargs)\u001b[0m\n\u001b[1;32m    312\u001b[0m         \u001b[0;32mtry\u001b[0m\u001b[0;34m:\u001b[0m\u001b[0;34m\u001b[0m\u001b[0;34m\u001b[0m\u001b[0m\n\u001b[0;32m--> 313\u001b[0;31m             \u001b[0;32mreturn\u001b[0m \u001b[0mself\u001b[0m\u001b[0;34m.\u001b[0m\u001b[0mconnection\u001b[0m\u001b[0;34m.\u001b[0m\u001b[0mrecv_into\u001b[0m\u001b[0;34m(\u001b[0m\u001b[0;34m*\u001b[0m\u001b[0margs\u001b[0m\u001b[0;34m,\u001b[0m \u001b[0;34m**\u001b[0m\u001b[0mkwargs\u001b[0m\u001b[0;34m)\u001b[0m\u001b[0;34m\u001b[0m\u001b[0;34m\u001b[0m\u001b[0m\n\u001b[0m\u001b[1;32m    314\u001b[0m         \u001b[0;32mexcept\u001b[0m \u001b[0mOpenSSL\u001b[0m\u001b[0;34m.\u001b[0m\u001b[0mSSL\u001b[0m\u001b[0;34m.\u001b[0m\u001b[0mSysCallError\u001b[0m \u001b[0;32mas\u001b[0m \u001b[0me\u001b[0m\u001b[0;34m:\u001b[0m\u001b[0;34m\u001b[0m\u001b[0;34m\u001b[0m\u001b[0m\n",
      "\u001b[0;32m~/opt/anaconda3/lib/python3.7/site-packages/OpenSSL/SSL.py\u001b[0m in \u001b[0;36mrecv_into\u001b[0;34m(self, buffer, nbytes, flags)\u001b[0m\n\u001b[1;32m   1839\u001b[0m             \u001b[0mresult\u001b[0m \u001b[0;34m=\u001b[0m \u001b[0m_lib\u001b[0m\u001b[0;34m.\u001b[0m\u001b[0mSSL_read\u001b[0m\u001b[0;34m(\u001b[0m\u001b[0mself\u001b[0m\u001b[0;34m.\u001b[0m\u001b[0m_ssl\u001b[0m\u001b[0;34m,\u001b[0m \u001b[0mbuf\u001b[0m\u001b[0;34m,\u001b[0m \u001b[0mnbytes\u001b[0m\u001b[0;34m)\u001b[0m\u001b[0;34m\u001b[0m\u001b[0;34m\u001b[0m\u001b[0m\n\u001b[0;32m-> 1840\u001b[0;31m         \u001b[0mself\u001b[0m\u001b[0;34m.\u001b[0m\u001b[0m_raise_ssl_error\u001b[0m\u001b[0;34m(\u001b[0m\u001b[0mself\u001b[0m\u001b[0;34m.\u001b[0m\u001b[0m_ssl\u001b[0m\u001b[0;34m,\u001b[0m \u001b[0mresult\u001b[0m\u001b[0;34m)\u001b[0m\u001b[0;34m\u001b[0m\u001b[0;34m\u001b[0m\u001b[0m\n\u001b[0m\u001b[1;32m   1841\u001b[0m \u001b[0;34m\u001b[0m\u001b[0m\n",
      "\u001b[0;32m~/opt/anaconda3/lib/python3.7/site-packages/OpenSSL/SSL.py\u001b[0m in \u001b[0;36m_raise_ssl_error\u001b[0;34m(self, ssl, result)\u001b[0m\n\u001b[1;32m   1645\u001b[0m         \u001b[0;32mif\u001b[0m \u001b[0merror\u001b[0m \u001b[0;34m==\u001b[0m \u001b[0m_lib\u001b[0m\u001b[0;34m.\u001b[0m\u001b[0mSSL_ERROR_WANT_READ\u001b[0m\u001b[0;34m:\u001b[0m\u001b[0;34m\u001b[0m\u001b[0;34m\u001b[0m\u001b[0m\n\u001b[0;32m-> 1646\u001b[0;31m             \u001b[0;32mraise\u001b[0m \u001b[0mWantReadError\u001b[0m\u001b[0;34m(\u001b[0m\u001b[0;34m)\u001b[0m\u001b[0;34m\u001b[0m\u001b[0;34m\u001b[0m\u001b[0m\n\u001b[0m\u001b[1;32m   1647\u001b[0m         \u001b[0;32melif\u001b[0m \u001b[0merror\u001b[0m \u001b[0;34m==\u001b[0m \u001b[0m_lib\u001b[0m\u001b[0;34m.\u001b[0m\u001b[0mSSL_ERROR_WANT_WRITE\u001b[0m\u001b[0;34m:\u001b[0m\u001b[0;34m\u001b[0m\u001b[0;34m\u001b[0m\u001b[0m\n",
      "\u001b[0;31mWantReadError\u001b[0m: ",
      "\nDuring handling of the above exception, another exception occurred:\n",
      "\u001b[0;31mtimeout\u001b[0m                                   Traceback (most recent call last)",
      "\u001b[0;32m~/opt/anaconda3/lib/python3.7/site-packages/urllib3/response.py\u001b[0m in \u001b[0;36m_error_catcher\u001b[0;34m(self)\u001b[0m\n\u001b[1;32m    424\u001b[0m             \u001b[0;32mtry\u001b[0m\u001b[0;34m:\u001b[0m\u001b[0;34m\u001b[0m\u001b[0;34m\u001b[0m\u001b[0m\n\u001b[0;32m--> 425\u001b[0;31m                 \u001b[0;32myield\u001b[0m\u001b[0;34m\u001b[0m\u001b[0;34m\u001b[0m\u001b[0m\n\u001b[0m\u001b[1;32m    426\u001b[0m \u001b[0;34m\u001b[0m\u001b[0m\n",
      "\u001b[0;32m~/opt/anaconda3/lib/python3.7/site-packages/urllib3/response.py\u001b[0m in \u001b[0;36mread\u001b[0;34m(self, amt, decode_content, cache_content)\u001b[0m\n\u001b[1;32m    506\u001b[0m                 \u001b[0mcache_content\u001b[0m \u001b[0;34m=\u001b[0m \u001b[0;32mFalse\u001b[0m\u001b[0;34m\u001b[0m\u001b[0;34m\u001b[0m\u001b[0m\n\u001b[0;32m--> 507\u001b[0;31m                 \u001b[0mdata\u001b[0m \u001b[0;34m=\u001b[0m \u001b[0mself\u001b[0m\u001b[0;34m.\u001b[0m\u001b[0m_fp\u001b[0m\u001b[0;34m.\u001b[0m\u001b[0mread\u001b[0m\u001b[0;34m(\u001b[0m\u001b[0mamt\u001b[0m\u001b[0;34m)\u001b[0m \u001b[0;32mif\u001b[0m \u001b[0;32mnot\u001b[0m \u001b[0mfp_closed\u001b[0m \u001b[0;32melse\u001b[0m \u001b[0;34mb\"\"\u001b[0m\u001b[0;34m\u001b[0m\u001b[0;34m\u001b[0m\u001b[0m\n\u001b[0m\u001b[1;32m    508\u001b[0m                 if (\n",
      "\u001b[0;32m~/opt/anaconda3/lib/python3.7/http/client.py\u001b[0m in \u001b[0;36mread\u001b[0;34m(self, amt)\u001b[0m\n\u001b[1;32m    456\u001b[0m             \u001b[0mb\u001b[0m \u001b[0;34m=\u001b[0m \u001b[0mbytearray\u001b[0m\u001b[0;34m(\u001b[0m\u001b[0mamt\u001b[0m\u001b[0;34m)\u001b[0m\u001b[0;34m\u001b[0m\u001b[0;34m\u001b[0m\u001b[0m\n\u001b[0;32m--> 457\u001b[0;31m             \u001b[0mn\u001b[0m \u001b[0;34m=\u001b[0m \u001b[0mself\u001b[0m\u001b[0;34m.\u001b[0m\u001b[0mreadinto\u001b[0m\u001b[0;34m(\u001b[0m\u001b[0mb\u001b[0m\u001b[0;34m)\u001b[0m\u001b[0;34m\u001b[0m\u001b[0;34m\u001b[0m\u001b[0m\n\u001b[0m\u001b[1;32m    458\u001b[0m             \u001b[0;32mreturn\u001b[0m \u001b[0mmemoryview\u001b[0m\u001b[0;34m(\u001b[0m\u001b[0mb\u001b[0m\u001b[0;34m)\u001b[0m\u001b[0;34m[\u001b[0m\u001b[0;34m:\u001b[0m\u001b[0mn\u001b[0m\u001b[0;34m]\u001b[0m\u001b[0;34m.\u001b[0m\u001b[0mtobytes\u001b[0m\u001b[0;34m(\u001b[0m\u001b[0;34m)\u001b[0m\u001b[0;34m\u001b[0m\u001b[0;34m\u001b[0m\u001b[0m\n",
      "\u001b[0;32m~/opt/anaconda3/lib/python3.7/http/client.py\u001b[0m in \u001b[0;36mreadinto\u001b[0;34m(self, b)\u001b[0m\n\u001b[1;32m    490\u001b[0m         \u001b[0;32mif\u001b[0m \u001b[0mself\u001b[0m\u001b[0;34m.\u001b[0m\u001b[0mchunked\u001b[0m\u001b[0;34m:\u001b[0m\u001b[0;34m\u001b[0m\u001b[0;34m\u001b[0m\u001b[0m\n\u001b[0;32m--> 491\u001b[0;31m             \u001b[0;32mreturn\u001b[0m \u001b[0mself\u001b[0m\u001b[0;34m.\u001b[0m\u001b[0m_readinto_chunked\u001b[0m\u001b[0;34m(\u001b[0m\u001b[0mb\u001b[0m\u001b[0;34m)\u001b[0m\u001b[0;34m\u001b[0m\u001b[0;34m\u001b[0m\u001b[0m\n\u001b[0m\u001b[1;32m    492\u001b[0m \u001b[0;34m\u001b[0m\u001b[0m\n",
      "\u001b[0;32m~/opt/anaconda3/lib/python3.7/http/client.py\u001b[0m in \u001b[0;36m_readinto_chunked\u001b[0;34m(self, b)\u001b[0m\n\u001b[1;32m    585\u001b[0m             \u001b[0;32mwhile\u001b[0m \u001b[0;32mTrue\u001b[0m\u001b[0;34m:\u001b[0m\u001b[0;34m\u001b[0m\u001b[0;34m\u001b[0m\u001b[0m\n\u001b[0;32m--> 586\u001b[0;31m                 \u001b[0mchunk_left\u001b[0m \u001b[0;34m=\u001b[0m \u001b[0mself\u001b[0m\u001b[0;34m.\u001b[0m\u001b[0m_get_chunk_left\u001b[0m\u001b[0;34m(\u001b[0m\u001b[0;34m)\u001b[0m\u001b[0;34m\u001b[0m\u001b[0;34m\u001b[0m\u001b[0m\n\u001b[0m\u001b[1;32m    587\u001b[0m                 \u001b[0;32mif\u001b[0m \u001b[0mchunk_left\u001b[0m \u001b[0;32mis\u001b[0m \u001b[0;32mNone\u001b[0m\u001b[0;34m:\u001b[0m\u001b[0;34m\u001b[0m\u001b[0;34m\u001b[0m\u001b[0m\n",
      "\u001b[0;32m~/opt/anaconda3/lib/python3.7/http/client.py\u001b[0m in \u001b[0;36m_get_chunk_left\u001b[0;34m(self)\u001b[0m\n\u001b[1;32m    553\u001b[0m             \u001b[0;32mtry\u001b[0m\u001b[0;34m:\u001b[0m\u001b[0;34m\u001b[0m\u001b[0;34m\u001b[0m\u001b[0m\n\u001b[0;32m--> 554\u001b[0;31m                 \u001b[0mchunk_left\u001b[0m \u001b[0;34m=\u001b[0m \u001b[0mself\u001b[0m\u001b[0;34m.\u001b[0m\u001b[0m_read_next_chunk_size\u001b[0m\u001b[0;34m(\u001b[0m\u001b[0;34m)\u001b[0m\u001b[0;34m\u001b[0m\u001b[0;34m\u001b[0m\u001b[0m\n\u001b[0m\u001b[1;32m    555\u001b[0m             \u001b[0;32mexcept\u001b[0m \u001b[0mValueError\u001b[0m\u001b[0;34m:\u001b[0m\u001b[0;34m\u001b[0m\u001b[0;34m\u001b[0m\u001b[0m\n",
      "\u001b[0;32m~/opt/anaconda3/lib/python3.7/http/client.py\u001b[0m in \u001b[0;36m_read_next_chunk_size\u001b[0;34m(self)\u001b[0m\n\u001b[1;32m    513\u001b[0m         \u001b[0;31m# Read the next chunk size from the file\u001b[0m\u001b[0;34m\u001b[0m\u001b[0;34m\u001b[0m\u001b[0;34m\u001b[0m\u001b[0m\n\u001b[0;32m--> 514\u001b[0;31m         \u001b[0mline\u001b[0m \u001b[0;34m=\u001b[0m \u001b[0mself\u001b[0m\u001b[0;34m.\u001b[0m\u001b[0mfp\u001b[0m\u001b[0;34m.\u001b[0m\u001b[0mreadline\u001b[0m\u001b[0;34m(\u001b[0m\u001b[0m_MAXLINE\u001b[0m \u001b[0;34m+\u001b[0m \u001b[0;36m1\u001b[0m\u001b[0;34m)\u001b[0m\u001b[0;34m\u001b[0m\u001b[0;34m\u001b[0m\u001b[0m\n\u001b[0m\u001b[1;32m    515\u001b[0m         \u001b[0;32mif\u001b[0m \u001b[0mlen\u001b[0m\u001b[0;34m(\u001b[0m\u001b[0mline\u001b[0m\u001b[0;34m)\u001b[0m \u001b[0;34m>\u001b[0m \u001b[0m_MAXLINE\u001b[0m\u001b[0;34m:\u001b[0m\u001b[0;34m\u001b[0m\u001b[0;34m\u001b[0m\u001b[0m\n",
      "\u001b[0;32m~/opt/anaconda3/lib/python3.7/socket.py\u001b[0m in \u001b[0;36mreadinto\u001b[0;34m(self, b)\u001b[0m\n\u001b[1;32m    588\u001b[0m             \u001b[0;32mtry\u001b[0m\u001b[0;34m:\u001b[0m\u001b[0;34m\u001b[0m\u001b[0;34m\u001b[0m\u001b[0m\n\u001b[0;32m--> 589\u001b[0;31m                 \u001b[0;32mreturn\u001b[0m \u001b[0mself\u001b[0m\u001b[0;34m.\u001b[0m\u001b[0m_sock\u001b[0m\u001b[0;34m.\u001b[0m\u001b[0mrecv_into\u001b[0m\u001b[0;34m(\u001b[0m\u001b[0mb\u001b[0m\u001b[0;34m)\u001b[0m\u001b[0;34m\u001b[0m\u001b[0;34m\u001b[0m\u001b[0m\n\u001b[0m\u001b[1;32m    590\u001b[0m             \u001b[0;32mexcept\u001b[0m \u001b[0mtimeout\u001b[0m\u001b[0;34m:\u001b[0m\u001b[0;34m\u001b[0m\u001b[0;34m\u001b[0m\u001b[0m\n",
      "\u001b[0;32m~/opt/anaconda3/lib/python3.7/site-packages/urllib3/contrib/pyopenssl.py\u001b[0m in \u001b[0;36mrecv_into\u001b[0;34m(self, *args, **kwargs)\u001b[0m\n\u001b[1;32m    325\u001b[0m             \u001b[0;32mif\u001b[0m \u001b[0;32mnot\u001b[0m \u001b[0mutil\u001b[0m\u001b[0;34m.\u001b[0m\u001b[0mwait_for_read\u001b[0m\u001b[0;34m(\u001b[0m\u001b[0mself\u001b[0m\u001b[0;34m.\u001b[0m\u001b[0msocket\u001b[0m\u001b[0;34m,\u001b[0m \u001b[0mself\u001b[0m\u001b[0;34m.\u001b[0m\u001b[0msocket\u001b[0m\u001b[0;34m.\u001b[0m\u001b[0mgettimeout\u001b[0m\u001b[0;34m(\u001b[0m\u001b[0;34m)\u001b[0m\u001b[0;34m)\u001b[0m\u001b[0;34m:\u001b[0m\u001b[0;34m\u001b[0m\u001b[0;34m\u001b[0m\u001b[0m\n\u001b[0;32m--> 326\u001b[0;31m                 \u001b[0;32mraise\u001b[0m \u001b[0mtimeout\u001b[0m\u001b[0;34m(\u001b[0m\u001b[0;34m\"The read operation timed out\"\u001b[0m\u001b[0;34m)\u001b[0m\u001b[0;34m\u001b[0m\u001b[0;34m\u001b[0m\u001b[0m\n\u001b[0m\u001b[1;32m    327\u001b[0m             \u001b[0;32melse\u001b[0m\u001b[0;34m:\u001b[0m\u001b[0;34m\u001b[0m\u001b[0;34m\u001b[0m\u001b[0m\n",
      "\u001b[0;31mtimeout\u001b[0m: The read operation timed out",
      "\nDuring handling of the above exception, another exception occurred:\n",
      "\u001b[0;31mReadTimeoutError\u001b[0m                          Traceback (most recent call last)",
      "\u001b[0;32m<ipython-input-19-7fcea9e961d7>\u001b[0m in \u001b[0;36m<module>\u001b[0;34m\u001b[0m\n\u001b[1;32m      2\u001b[0m \u001b[0;31m# You can pause the display of tweets by interrupting the Python kernel (use the menu bar at the top)\u001b[0m\u001b[0;34m\u001b[0m\u001b[0;34m\u001b[0m\u001b[0;34m\u001b[0m\u001b[0m\n\u001b[1;32m      3\u001b[0m \u001b[0;34m\u001b[0m\u001b[0m\n\u001b[0;32m----> 4\u001b[0;31m \u001b[0mmy_stream\u001b[0m\u001b[0;34m.\u001b[0m\u001b[0mfilter\u001b[0m\u001b[0;34m(\u001b[0m\u001b[0mtrack\u001b[0m\u001b[0;34m=\u001b[0m\u001b[0;34m[\u001b[0m\u001b[0;34m'givingTuesday'\u001b[0m\u001b[0;34m]\u001b[0m\u001b[0;34m)\u001b[0m\u001b[0;34m\u001b[0m\u001b[0;34m\u001b[0m\u001b[0m\n\u001b[0m",
      "\u001b[0;32m~/Desktop/Data Science/DS 710 fall 2020/tweepy/tweepy/streaming.py\u001b[0m in \u001b[0;36mfilter\u001b[0;34m(self, follow, track, is_async, locations, stall_warnings, languages, encoding, filter_level)\u001b[0m\n\u001b[1;32m    472\u001b[0m             \u001b[0mself\u001b[0m\u001b[0;34m.\u001b[0m\u001b[0mbody\u001b[0m\u001b[0;34m[\u001b[0m\u001b[0;34m'filter_level'\u001b[0m\u001b[0;34m]\u001b[0m \u001b[0;34m=\u001b[0m \u001b[0mfilter_level\u001b[0m\u001b[0;34m.\u001b[0m\u001b[0mencode\u001b[0m\u001b[0;34m(\u001b[0m\u001b[0mencoding\u001b[0m\u001b[0;34m)\u001b[0m\u001b[0;34m\u001b[0m\u001b[0;34m\u001b[0m\u001b[0m\n\u001b[1;32m    473\u001b[0m         \u001b[0mself\u001b[0m\u001b[0;34m.\u001b[0m\u001b[0msession\u001b[0m\u001b[0;34m.\u001b[0m\u001b[0mparams\u001b[0m \u001b[0;34m=\u001b[0m \u001b[0;34m{\u001b[0m\u001b[0;34m'delimited'\u001b[0m\u001b[0;34m:\u001b[0m \u001b[0;34m'length'\u001b[0m\u001b[0;34m}\u001b[0m\u001b[0;34m\u001b[0m\u001b[0;34m\u001b[0m\u001b[0m\n\u001b[0;32m--> 474\u001b[0;31m         \u001b[0mself\u001b[0m\u001b[0;34m.\u001b[0m\u001b[0m_start\u001b[0m\u001b[0;34m(\u001b[0m\u001b[0mis_async\u001b[0m\u001b[0;34m)\u001b[0m\u001b[0;34m\u001b[0m\u001b[0;34m\u001b[0m\u001b[0m\n\u001b[0m\u001b[1;32m    475\u001b[0m \u001b[0;34m\u001b[0m\u001b[0m\n\u001b[1;32m    476\u001b[0m     def sitestream(self, follow, stall_warnings=False,\n",
      "\u001b[0;32m~/Desktop/Data Science/DS 710 fall 2020/tweepy/tweepy/streaming.py\u001b[0m in \u001b[0;36m_start\u001b[0;34m(self, is_async)\u001b[0m\n\u001b[1;32m    387\u001b[0m             \u001b[0mself\u001b[0m\u001b[0;34m.\u001b[0m\u001b[0m_thread\u001b[0m\u001b[0;34m.\u001b[0m\u001b[0mstart\u001b[0m\u001b[0;34m(\u001b[0m\u001b[0;34m)\u001b[0m\u001b[0;34m\u001b[0m\u001b[0;34m\u001b[0m\u001b[0m\n\u001b[1;32m    388\u001b[0m         \u001b[0;32melse\u001b[0m\u001b[0;34m:\u001b[0m\u001b[0;34m\u001b[0m\u001b[0;34m\u001b[0m\u001b[0m\n\u001b[0;32m--> 389\u001b[0;31m             \u001b[0mself\u001b[0m\u001b[0;34m.\u001b[0m\u001b[0m_run\u001b[0m\u001b[0;34m(\u001b[0m\u001b[0;34m)\u001b[0m\u001b[0;34m\u001b[0m\u001b[0;34m\u001b[0m\u001b[0m\n\u001b[0m\u001b[1;32m    390\u001b[0m \u001b[0;34m\u001b[0m\u001b[0m\n\u001b[1;32m    391\u001b[0m     \u001b[0;32mdef\u001b[0m \u001b[0mon_closed\u001b[0m\u001b[0;34m(\u001b[0m\u001b[0mself\u001b[0m\u001b[0;34m,\u001b[0m \u001b[0mresp\u001b[0m\u001b[0;34m)\u001b[0m\u001b[0;34m:\u001b[0m\u001b[0;34m\u001b[0m\u001b[0;34m\u001b[0m\u001b[0m\n",
      "\u001b[0;32m~/Desktop/Data Science/DS 710 fall 2020/tweepy/tweepy/streaming.py\u001b[0m in \u001b[0;36m_run\u001b[0;34m(self)\u001b[0m\n\u001b[1;32m    318\u001b[0m             \u001b[0;31m# call a handler first so that the exception can be logged.\u001b[0m\u001b[0;34m\u001b[0m\u001b[0;34m\u001b[0m\u001b[0;34m\u001b[0m\u001b[0m\n\u001b[1;32m    319\u001b[0m             \u001b[0mself\u001b[0m\u001b[0;34m.\u001b[0m\u001b[0mlistener\u001b[0m\u001b[0;34m.\u001b[0m\u001b[0mon_exception\u001b[0m\u001b[0;34m(\u001b[0m\u001b[0mexc_info\u001b[0m\u001b[0;34m[\u001b[0m\u001b[0;36m1\u001b[0m\u001b[0;34m]\u001b[0m\u001b[0;34m)\u001b[0m\u001b[0;34m\u001b[0m\u001b[0;34m\u001b[0m\u001b[0m\n\u001b[0;32m--> 320\u001b[0;31m             \u001b[0msix\u001b[0m\u001b[0;34m.\u001b[0m\u001b[0mreraise\u001b[0m\u001b[0;34m(\u001b[0m\u001b[0;34m*\u001b[0m\u001b[0mexc_info\u001b[0m\u001b[0;34m)\u001b[0m\u001b[0;34m\u001b[0m\u001b[0;34m\u001b[0m\u001b[0m\n\u001b[0m\u001b[1;32m    321\u001b[0m \u001b[0;34m\u001b[0m\u001b[0m\n\u001b[1;32m    322\u001b[0m     \u001b[0;32mdef\u001b[0m \u001b[0m_data\u001b[0m\u001b[0;34m(\u001b[0m\u001b[0mself\u001b[0m\u001b[0;34m,\u001b[0m \u001b[0mdata\u001b[0m\u001b[0;34m)\u001b[0m\u001b[0;34m:\u001b[0m\u001b[0;34m\u001b[0m\u001b[0;34m\u001b[0m\u001b[0m\n",
      "\u001b[0;32m~/opt/anaconda3/lib/python3.7/site-packages/six.py\u001b[0m in \u001b[0;36mreraise\u001b[0;34m(tp, value, tb)\u001b[0m\n\u001b[1;32m    701\u001b[0m             \u001b[0;32mif\u001b[0m \u001b[0mvalue\u001b[0m\u001b[0;34m.\u001b[0m\u001b[0m__traceback__\u001b[0m \u001b[0;32mis\u001b[0m \u001b[0;32mnot\u001b[0m \u001b[0mtb\u001b[0m\u001b[0;34m:\u001b[0m\u001b[0;34m\u001b[0m\u001b[0;34m\u001b[0m\u001b[0m\n\u001b[1;32m    702\u001b[0m                 \u001b[0;32mraise\u001b[0m \u001b[0mvalue\u001b[0m\u001b[0;34m.\u001b[0m\u001b[0mwith_traceback\u001b[0m\u001b[0;34m(\u001b[0m\u001b[0mtb\u001b[0m\u001b[0;34m)\u001b[0m\u001b[0;34m\u001b[0m\u001b[0;34m\u001b[0m\u001b[0m\n\u001b[0;32m--> 703\u001b[0;31m             \u001b[0;32mraise\u001b[0m \u001b[0mvalue\u001b[0m\u001b[0;34m\u001b[0m\u001b[0;34m\u001b[0m\u001b[0m\n\u001b[0m\u001b[1;32m    704\u001b[0m         \u001b[0;32mfinally\u001b[0m\u001b[0;34m:\u001b[0m\u001b[0;34m\u001b[0m\u001b[0;34m\u001b[0m\u001b[0m\n\u001b[1;32m    705\u001b[0m             \u001b[0mvalue\u001b[0m \u001b[0;34m=\u001b[0m \u001b[0;32mNone\u001b[0m\u001b[0;34m\u001b[0m\u001b[0;34m\u001b[0m\u001b[0m\n",
      "\u001b[0;32m~/Desktop/Data Science/DS 710 fall 2020/tweepy/tweepy/streaming.py\u001b[0m in \u001b[0;36m_run\u001b[0;34m(self)\u001b[0m\n\u001b[1;32m    287\u001b[0m                     \u001b[0mself\u001b[0m\u001b[0;34m.\u001b[0m\u001b[0msnooze_time\u001b[0m \u001b[0;34m=\u001b[0m \u001b[0mself\u001b[0m\u001b[0;34m.\u001b[0m\u001b[0msnooze_time_step\u001b[0m\u001b[0;34m\u001b[0m\u001b[0;34m\u001b[0m\u001b[0m\n\u001b[1;32m    288\u001b[0m                     \u001b[0mself\u001b[0m\u001b[0;34m.\u001b[0m\u001b[0mlistener\u001b[0m\u001b[0;34m.\u001b[0m\u001b[0mon_connect\u001b[0m\u001b[0;34m(\u001b[0m\u001b[0;34m)\u001b[0m\u001b[0;34m\u001b[0m\u001b[0;34m\u001b[0m\u001b[0m\n\u001b[0;32m--> 289\u001b[0;31m                     \u001b[0mself\u001b[0m\u001b[0;34m.\u001b[0m\u001b[0m_read_loop\u001b[0m\u001b[0;34m(\u001b[0m\u001b[0mresp\u001b[0m\u001b[0;34m)\u001b[0m\u001b[0;34m\u001b[0m\u001b[0;34m\u001b[0m\u001b[0m\n\u001b[0m\u001b[1;32m    290\u001b[0m             \u001b[0;32mexcept\u001b[0m \u001b[0;34m(\u001b[0m\u001b[0mTimeout\u001b[0m\u001b[0;34m,\u001b[0m \u001b[0mssl\u001b[0m\u001b[0;34m.\u001b[0m\u001b[0mSSLError\u001b[0m\u001b[0;34m)\u001b[0m \u001b[0;32mas\u001b[0m \u001b[0mexc\u001b[0m\u001b[0;34m:\u001b[0m\u001b[0;34m\u001b[0m\u001b[0;34m\u001b[0m\u001b[0m\n\u001b[1;32m    291\u001b[0m                 \u001b[0;31m# This is still necessary, as a SSLError can actually be\u001b[0m\u001b[0;34m\u001b[0m\u001b[0;34m\u001b[0m\u001b[0;34m\u001b[0m\u001b[0m\n",
      "\u001b[0;32m~/Desktop/Data Science/DS 710 fall 2020/tweepy/tweepy/streaming.py\u001b[0m in \u001b[0;36m_read_loop\u001b[0;34m(self, resp)\u001b[0m\n\u001b[1;32m    337\u001b[0m             \u001b[0mlength\u001b[0m \u001b[0;34m=\u001b[0m \u001b[0;36m0\u001b[0m\u001b[0;34m\u001b[0m\u001b[0;34m\u001b[0m\u001b[0m\n\u001b[1;32m    338\u001b[0m             \u001b[0;32mwhile\u001b[0m \u001b[0;32mnot\u001b[0m \u001b[0mresp\u001b[0m\u001b[0;34m.\u001b[0m\u001b[0mraw\u001b[0m\u001b[0;34m.\u001b[0m\u001b[0mclosed\u001b[0m\u001b[0;34m:\u001b[0m\u001b[0;34m\u001b[0m\u001b[0;34m\u001b[0m\u001b[0m\n\u001b[0;32m--> 339\u001b[0;31m                 \u001b[0mline\u001b[0m \u001b[0;34m=\u001b[0m \u001b[0mbuf\u001b[0m\u001b[0;34m.\u001b[0m\u001b[0mread_line\u001b[0m\u001b[0;34m(\u001b[0m\u001b[0;34m)\u001b[0m\u001b[0;34m\u001b[0m\u001b[0;34m\u001b[0m\u001b[0m\n\u001b[0m\u001b[1;32m    340\u001b[0m                 \u001b[0mstripped_line\u001b[0m \u001b[0;34m=\u001b[0m \u001b[0mline\u001b[0m\u001b[0;34m.\u001b[0m\u001b[0mstrip\u001b[0m\u001b[0;34m(\u001b[0m\u001b[0;34m)\u001b[0m \u001b[0;32mif\u001b[0m \u001b[0mline\u001b[0m \u001b[0;32melse\u001b[0m \u001b[0mline\u001b[0m \u001b[0;31m# line is sometimes None so we need to check here\u001b[0m\u001b[0;34m\u001b[0m\u001b[0;34m\u001b[0m\u001b[0m\n\u001b[1;32m    341\u001b[0m                 \u001b[0;32mif\u001b[0m \u001b[0;32mnot\u001b[0m \u001b[0mstripped_line\u001b[0m\u001b[0;34m:\u001b[0m\u001b[0;34m\u001b[0m\u001b[0;34m\u001b[0m\u001b[0m\n",
      "\u001b[0;32m~/Desktop/Data Science/DS 710 fall 2020/tweepy/tweepy/streaming.py\u001b[0m in \u001b[0;36mread_line\u001b[0;34m(self, sep)\u001b[0m\n\u001b[1;32m    198\u001b[0m             \u001b[0;32melse\u001b[0m\u001b[0;34m:\u001b[0m\u001b[0;34m\u001b[0m\u001b[0;34m\u001b[0m\u001b[0m\n\u001b[1;32m    199\u001b[0m                 \u001b[0mstart\u001b[0m \u001b[0;34m=\u001b[0m \u001b[0mlen\u001b[0m\u001b[0;34m(\u001b[0m\u001b[0mself\u001b[0m\u001b[0;34m.\u001b[0m\u001b[0m_buffer\u001b[0m\u001b[0;34m)\u001b[0m\u001b[0;34m\u001b[0m\u001b[0;34m\u001b[0m\u001b[0m\n\u001b[0;32m--> 200\u001b[0;31m             \u001b[0mself\u001b[0m\u001b[0;34m.\u001b[0m\u001b[0m_buffer\u001b[0m \u001b[0;34m+=\u001b[0m \u001b[0mself\u001b[0m\u001b[0;34m.\u001b[0m\u001b[0m_stream\u001b[0m\u001b[0;34m.\u001b[0m\u001b[0mread\u001b[0m\u001b[0;34m(\u001b[0m\u001b[0mself\u001b[0m\u001b[0;34m.\u001b[0m\u001b[0m_chunk_size\u001b[0m\u001b[0;34m)\u001b[0m\u001b[0;34m\u001b[0m\u001b[0;34m\u001b[0m\u001b[0m\n\u001b[0m\u001b[1;32m    201\u001b[0m         \u001b[0;32mreturn\u001b[0m \u001b[0msix\u001b[0m\u001b[0;34m.\u001b[0m\u001b[0mb\u001b[0m\u001b[0;34m(\u001b[0m\u001b[0;34m''\u001b[0m\u001b[0;34m)\u001b[0m\u001b[0;34m\u001b[0m\u001b[0;34m\u001b[0m\u001b[0m\n\u001b[1;32m    202\u001b[0m \u001b[0;34m\u001b[0m\u001b[0m\n",
      "\u001b[0;32m~/opt/anaconda3/lib/python3.7/site-packages/urllib3/response.py\u001b[0m in \u001b[0;36mread\u001b[0;34m(self, amt, decode_content, cache_content)\u001b[0m\n\u001b[1;32m    527\u001b[0m                         \u001b[0;31m# raised during streaming, so all calls with incorrect\u001b[0m\u001b[0;34m\u001b[0m\u001b[0;34m\u001b[0m\u001b[0;34m\u001b[0m\u001b[0m\n\u001b[1;32m    528\u001b[0m                         \u001b[0;31m# Content-Length are caught.\u001b[0m\u001b[0;34m\u001b[0m\u001b[0;34m\u001b[0m\u001b[0;34m\u001b[0m\u001b[0m\n\u001b[0;32m--> 529\u001b[0;31m                         \u001b[0;32mraise\u001b[0m \u001b[0mIncompleteRead\u001b[0m\u001b[0;34m(\u001b[0m\u001b[0mself\u001b[0m\u001b[0;34m.\u001b[0m\u001b[0m_fp_bytes_read\u001b[0m\u001b[0;34m,\u001b[0m \u001b[0mself\u001b[0m\u001b[0;34m.\u001b[0m\u001b[0mlength_remaining\u001b[0m\u001b[0;34m)\u001b[0m\u001b[0;34m\u001b[0m\u001b[0;34m\u001b[0m\u001b[0m\n\u001b[0m\u001b[1;32m    530\u001b[0m \u001b[0;34m\u001b[0m\u001b[0m\n\u001b[1;32m    531\u001b[0m         \u001b[0;32mif\u001b[0m \u001b[0mdata\u001b[0m\u001b[0;34m:\u001b[0m\u001b[0;34m\u001b[0m\u001b[0;34m\u001b[0m\u001b[0m\n",
      "\u001b[0;32m~/opt/anaconda3/lib/python3.7/contextlib.py\u001b[0m in \u001b[0;36m__exit__\u001b[0;34m(self, type, value, traceback)\u001b[0m\n\u001b[1;32m    128\u001b[0m                 \u001b[0mvalue\u001b[0m \u001b[0;34m=\u001b[0m \u001b[0mtype\u001b[0m\u001b[0;34m(\u001b[0m\u001b[0;34m)\u001b[0m\u001b[0;34m\u001b[0m\u001b[0;34m\u001b[0m\u001b[0m\n\u001b[1;32m    129\u001b[0m             \u001b[0;32mtry\u001b[0m\u001b[0;34m:\u001b[0m\u001b[0;34m\u001b[0m\u001b[0;34m\u001b[0m\u001b[0m\n\u001b[0;32m--> 130\u001b[0;31m                 \u001b[0mself\u001b[0m\u001b[0;34m.\u001b[0m\u001b[0mgen\u001b[0m\u001b[0;34m.\u001b[0m\u001b[0mthrow\u001b[0m\u001b[0;34m(\u001b[0m\u001b[0mtype\u001b[0m\u001b[0;34m,\u001b[0m \u001b[0mvalue\u001b[0m\u001b[0;34m,\u001b[0m \u001b[0mtraceback\u001b[0m\u001b[0;34m)\u001b[0m\u001b[0;34m\u001b[0m\u001b[0;34m\u001b[0m\u001b[0m\n\u001b[0m\u001b[1;32m    131\u001b[0m             \u001b[0;32mexcept\u001b[0m \u001b[0mStopIteration\u001b[0m \u001b[0;32mas\u001b[0m \u001b[0mexc\u001b[0m\u001b[0;34m:\u001b[0m\u001b[0;34m\u001b[0m\u001b[0;34m\u001b[0m\u001b[0m\n\u001b[1;32m    132\u001b[0m                 \u001b[0;31m# Suppress StopIteration *unless* it's the same exception that\u001b[0m\u001b[0;34m\u001b[0m\u001b[0;34m\u001b[0m\u001b[0;34m\u001b[0m\u001b[0m\n",
      "\u001b[0;32m~/opt/anaconda3/lib/python3.7/site-packages/urllib3/response.py\u001b[0m in \u001b[0;36m_error_catcher\u001b[0;34m(self)\u001b[0m\n\u001b[1;32m    428\u001b[0m                 \u001b[0;31m# FIXME: Ideally we'd like to include the url in the ReadTimeoutError but\u001b[0m\u001b[0;34m\u001b[0m\u001b[0;34m\u001b[0m\u001b[0;34m\u001b[0m\u001b[0m\n\u001b[1;32m    429\u001b[0m                 \u001b[0;31m# there is yet no clean way to get at it from this context.\u001b[0m\u001b[0;34m\u001b[0m\u001b[0;34m\u001b[0m\u001b[0;34m\u001b[0m\u001b[0m\n\u001b[0;32m--> 430\u001b[0;31m                 \u001b[0;32mraise\u001b[0m \u001b[0mReadTimeoutError\u001b[0m\u001b[0;34m(\u001b[0m\u001b[0mself\u001b[0m\u001b[0;34m.\u001b[0m\u001b[0m_pool\u001b[0m\u001b[0;34m,\u001b[0m \u001b[0;32mNone\u001b[0m\u001b[0;34m,\u001b[0m \u001b[0;34m\"Read timed out.\"\u001b[0m\u001b[0;34m)\u001b[0m\u001b[0;34m\u001b[0m\u001b[0;34m\u001b[0m\u001b[0m\n\u001b[0m\u001b[1;32m    431\u001b[0m \u001b[0;34m\u001b[0m\u001b[0m\n\u001b[1;32m    432\u001b[0m             \u001b[0;32mexcept\u001b[0m \u001b[0mBaseSSLError\u001b[0m \u001b[0;32mas\u001b[0m \u001b[0me\u001b[0m\u001b[0;34m:\u001b[0m\u001b[0;34m\u001b[0m\u001b[0;34m\u001b[0m\u001b[0m\n",
      "\u001b[0;31mReadTimeoutError\u001b[0m: HTTPSConnectionPool(host='stream.twitter.com', port=443): Read timed out."
     ]
    }
   ],
   "source": [
    "# Now, we're ready to start streaming!  We'll look for recent tweets which use the word \"giving\".\n",
    "# You can pause the display of tweets by interrupting the Python kernel (use the menu bar at the top)\n",
    "\n",
    "my_stream.filter(track=['givingTuesday'])"
   ]
  },
  {
   "cell_type": "code",
   "execution_count": null,
   "metadata": {},
   "outputs": [],
   "source": [
    "# Even if you pause the display of tweets, your stream is still connected to Twitter!\n",
    "# To disconnect (for example, if you want to change which words you are searching for), \n",
    "# use the disconnect() function.\n",
    "\n",
    "my_stream.disconnect()"
   ]
  },
  {
   "cell_type": "code",
   "execution_count": 22,
   "metadata": {},
   "outputs": [],
   "source": [
    "from tweepy import Stream\n",
    "from tweepy import OAuthHandler\n",
    "from tweepy.streaming import StreamListener"
   ]
  },
  {
   "cell_type": "code",
   "execution_count": 24,
   "metadata": {},
   "outputs": [
    {
     "name": "stdout",
     "output_type": "stream",
     "text": [
      "Requirement already satisfied: tweepy in /Users/markhanson/opt/anaconda3/lib/python3.7/site-packages (3.9.0)\n",
      "Requirement already satisfied: requests-oauthlib>=0.7.0 in /Users/markhanson/opt/anaconda3/lib/python3.7/site-packages (from tweepy) (1.3.0)\n",
      "Requirement already satisfied: six>=1.10.0 in /Users/markhanson/opt/anaconda3/lib/python3.7/site-packages (from tweepy) (1.14.0)\n",
      "Requirement already satisfied: requests[socks]>=2.11.1 in /Users/markhanson/opt/anaconda3/lib/python3.7/site-packages (from tweepy) (2.22.0)\n",
      "Requirement already satisfied: oauthlib>=3.0.0 in /Users/markhanson/opt/anaconda3/lib/python3.7/site-packages (from requests-oauthlib>=0.7.0->tweepy) (3.1.0)\n",
      "Requirement already satisfied: certifi>=2017.4.17 in /Users/markhanson/opt/anaconda3/lib/python3.7/site-packages (from requests[socks]>=2.11.1->tweepy) (2019.11.28)\n",
      "Requirement already satisfied: idna<2.9,>=2.5 in /Users/markhanson/opt/anaconda3/lib/python3.7/site-packages (from requests[socks]>=2.11.1->tweepy) (2.8)\n",
      "Requirement already satisfied: chardet<3.1.0,>=3.0.2 in /Users/markhanson/opt/anaconda3/lib/python3.7/site-packages (from requests[socks]>=2.11.1->tweepy) (3.0.4)\n",
      "Requirement already satisfied: urllib3!=1.25.0,!=1.25.1,<1.26,>=1.21.1 in /Users/markhanson/opt/anaconda3/lib/python3.7/site-packages (from requests[socks]>=2.11.1->tweepy) (1.25.8)\n",
      "Requirement already satisfied: PySocks!=1.5.7,>=1.5.6; extra == \"socks\" in /Users/markhanson/opt/anaconda3/lib/python3.7/site-packages (from requests[socks]>=2.11.1->tweepy) (1.7.1)\n",
      "Note: you may need to restart the kernel to use updated packages.\n"
     ]
    }
   ],
   "source": [
    "pip install tweepy"
   ]
  },
  {
   "cell_type": "code",
   "execution_count": null,
   "metadata": {},
   "outputs": [],
   "source": [
    "# Import the necessary package to process data in JSON format\n",
    "try:\n",
    "    import json\n",
    "except ImportError:\n",
    "    import simplejson as json\n",
    "\n",
    "# Import the tweepy library\n",
    "import tweepy\n",
    "\n",
    "# Variables that contains the user credentials to access Twitter API \n",
    "ACCESS_TOKEN = 'YOUR ACCESS TOKEN\"'\n",
    "ACCESS_SECRET = 'YOUR ACCESS TOKEN SECRET'\n",
    "CONSUMER_KEY = 'YOUR API KEY'\n",
    "CONSUMER_SECRET = 'ENTER YOUR API SECRET'\n",
    "\n",
    "# Setup tweepy to authenticate with Twitter credentials:\n",
    "\n",
    "auth = tweepy.OAuthHandler(CONSUMER_KEY, CONSUMER_SECRET)\n",
    "auth.set_access_token(ACCESS_TOKEN, ACCESS_SECRET)\n",
    "\n",
    "# Create the api to connect to twitter with your creadentials\n",
    "api = tweepy.API(auth, wait_on_rate_limit=True, wait_on_rate_limit_notify=True, compression=True)\n",
    "#---------------------------------------------------------------------------------------------------------------------\n",
    "# wait_on_rate_limit= True;  will make the api to automatically wait for rate limits to replenish\n",
    "# wait_on_rate_limit_notify= Ture;  will make the api  to print a notification when Tweepyis waiting\n",
    "# for rate limits to replenish\n",
    "#---------------------------------------------------------------------------------------------------------------------\n",
    "\n",
    "\n",
    "#---------------------------------------------------------------------------------------------------------------------\n",
    "# The following loop will print most recent statuses, including retweets, posted by the authenticating\n",
    "# user and that user’s friends. \n",
    "# This is the equivalent of /timeline/home on the Web.\n",
    "#---------------------------------------------------------------------------------------------------------------------\n",
    "\n",
    "for status in tweepy.Cursor(api.home_timeline).items(200):\n",
    "\tprint(status._json)\n",
    "\t\n",
    "#---------------------------------------------------------------------------------------------------------------------\n",
    "# Twitter API development use pagination for Iterating through timelines, user lists, direct messages, etc. \n",
    "# To help make pagination easier and Tweepy has the Cursor object.\n",
    "#---------------------------------------------------------------------------------------------------------------------"
   ]
  },
  {
   "cell_type": "markdown",
   "metadata": {},
   "source": [
    "---\n",
    "\n",
    "## Suggestions for skills to learn\n",
    "\n",
    "* Collect 1000 tweets matching a search, or all available in the current time window, whichever comes first.  That 1000 was arbitrary\n",
    "* Extract just the fields you are most interested in from a search, and create a Pandas data frame\n",
    "* Follow the graph of followers from a specific Twitter user"
   ]
  },
  {
   "cell_type": "markdown",
   "metadata": {},
   "source": [
    "---\n",
    "\n",
    "## Useful resources and links\n",
    "\n",
    "* [the structure of the Status object of Tweepy](https://gist.github.com/dev-techmoe/ef676cdd03ac47ac503e856282077bf2)\n",
    "* [Tweet Data Dictionary](https://developer.twitter.com/en/docs/tweets/data-dictionary/overview/tweet-object)\n",
    "* [Standard Operators](https://developer.twitter.com/en/docs/tweets/search/guides/standard-operators) -- premium operators cost money.\n",
    "* [Twitter operators by product](https://developer.twitter.com/en/docs/tweets/rules-and-filtering/overview/operators-by-product) -- by product they mean *paid access level*\n",
    "* [How to use Twitter’s Search REST API most effectively](https://www.karambelkar.info/2015/01/how-to-use-twitters-search-rest-api-most-effectively./)\n",
    "* [Collecting Tweets with Tweepy](http://www.dealingdata.net/2016/07/23/PoGo-Series-Tweepy/)\n"
   ]
  }
 ],
 "metadata": {
  "kernelspec": {
   "display_name": "Python 3",
   "language": "python",
   "name": "python3"
  },
  "language_info": {
   "codemirror_mode": {
    "name": "ipython",
    "version": 3
   },
   "file_extension": ".py",
   "mimetype": "text/x-python",
   "name": "python",
   "nbconvert_exporter": "python",
   "pygments_lexer": "ipython3",
   "version": "3.7.6"
  }
 },
 "nbformat": 4,
 "nbformat_minor": 1
}
